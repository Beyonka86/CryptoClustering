{
 "cells": [
  {
   "cell_type": "code",
   "execution_count": 1,
   "metadata": {
    "metadata": {}
   },
   "outputs": [
    {
     "data": {
      "application/javascript": "(function(root) {\n  function now() {\n    return new Date();\n  }\n\n  var force = true;\n  var py_version = '3.2.1'.replace('rc', '-rc.').replace('.dev', '-dev.');\n  var is_dev = py_version.indexOf(\"+\") !== -1 || py_version.indexOf(\"-\") !== -1;\n  var reloading = false;\n  var Bokeh = root.Bokeh;\n  var bokeh_loaded = Bokeh != null && (Bokeh.version === py_version || (Bokeh.versions !== undefined && Bokeh.versions.has(py_version)));\n\n  if (typeof (root._bokeh_timeout) === \"undefined\" || force) {\n    root._bokeh_timeout = Date.now() + 5000;\n    root._bokeh_failed_load = false;\n  }\n\n  function run_callbacks() {\n    try {\n      root._bokeh_onload_callbacks.forEach(function(callback) {\n        if (callback != null)\n          callback();\n      });\n    } finally {\n      delete root._bokeh_onload_callbacks;\n    }\n    console.debug(\"Bokeh: all callbacks have finished\");\n  }\n\n  function load_libs(css_urls, js_urls, js_modules, js_exports, callback) {\n    if (css_urls == null) css_urls = [];\n    if (js_urls == null) js_urls = [];\n    if (js_modules == null) js_modules = [];\n    if (js_exports == null) js_exports = {};\n\n    root._bokeh_onload_callbacks.push(callback);\n\n    if (root._bokeh_is_loading > 0) {\n      console.debug(\"Bokeh: BokehJS is being loaded, scheduling callback at\", now());\n      return null;\n    }\n    if (js_urls.length === 0 && js_modules.length === 0 && Object.keys(js_exports).length === 0) {\n      run_callbacks();\n      return null;\n    }\n    if (!reloading) {\n      console.debug(\"Bokeh: BokehJS not loaded, scheduling load and callback at\", now());\n    }\n\n    function on_load() {\n      root._bokeh_is_loading--;\n      if (root._bokeh_is_loading === 0) {\n        console.debug(\"Bokeh: all BokehJS libraries/stylesheets loaded\");\n        run_callbacks()\n      }\n    }\n    window._bokeh_on_load = on_load\n\n    function on_error() {\n      console.error(\"failed to load \" + url);\n    }\n\n    var skip = [];\n    if (window.requirejs) {\n      window.requirejs.config({'packages': {}, 'paths': {'jspanel': 'https://cdn.jsdelivr.net/npm/jspanel4@4.12.0/dist/jspanel', 'jspanel-modal': 'https://cdn.jsdelivr.net/npm/jspanel4@4.12.0/dist/extensions/modal/jspanel.modal', 'jspanel-tooltip': 'https://cdn.jsdelivr.net/npm/jspanel4@4.12.0/dist/extensions/tooltip/jspanel.tooltip', 'jspanel-hint': 'https://cdn.jsdelivr.net/npm/jspanel4@4.12.0/dist/extensions/hint/jspanel.hint', 'jspanel-layout': 'https://cdn.jsdelivr.net/npm/jspanel4@4.12.0/dist/extensions/layout/jspanel.layout', 'jspanel-contextmenu': 'https://cdn.jsdelivr.net/npm/jspanel4@4.12.0/dist/extensions/contextmenu/jspanel.contextmenu', 'jspanel-dock': 'https://cdn.jsdelivr.net/npm/jspanel4@4.12.0/dist/extensions/dock/jspanel.dock', 'gridstack': 'https://cdn.jsdelivr.net/npm/gridstack@7.2.3/dist/gridstack-all', 'notyf': 'https://cdn.jsdelivr.net/npm/notyf@3/notyf.min'}, 'shim': {'jspanel': {'exports': 'jsPanel'}, 'gridstack': {'exports': 'GridStack'}}});\n      require([\"jspanel\"], function(jsPanel) {\n\twindow.jsPanel = jsPanel\n\ton_load()\n      })\n      require([\"jspanel-modal\"], function() {\n\ton_load()\n      })\n      require([\"jspanel-tooltip\"], function() {\n\ton_load()\n      })\n      require([\"jspanel-hint\"], function() {\n\ton_load()\n      })\n      require([\"jspanel-layout\"], function() {\n\ton_load()\n      })\n      require([\"jspanel-contextmenu\"], function() {\n\ton_load()\n      })\n      require([\"jspanel-dock\"], function() {\n\ton_load()\n      })\n      require([\"gridstack\"], function(GridStack) {\n\twindow.GridStack = GridStack\n\ton_load()\n      })\n      require([\"notyf\"], function() {\n\ton_load()\n      })\n      root._bokeh_is_loading = css_urls.length + 9;\n    } else {\n      root._bokeh_is_loading = css_urls.length + js_urls.length + js_modules.length + Object.keys(js_exports).length;\n    }\n\n    var existing_stylesheets = []\n    var links = document.getElementsByTagName('link')\n    for (var i = 0; i < links.length; i++) {\n      var link = links[i]\n      if (link.href != null) {\n\texisting_stylesheets.push(link.href)\n      }\n    }\n    for (var i = 0; i < css_urls.length; i++) {\n      var url = css_urls[i];\n      if (existing_stylesheets.indexOf(url) !== -1) {\n\ton_load()\n\tcontinue;\n      }\n      const element = document.createElement(\"link\");\n      element.onload = on_load;\n      element.onerror = on_error;\n      element.rel = \"stylesheet\";\n      element.type = \"text/css\";\n      element.href = url;\n      console.debug(\"Bokeh: injecting link tag for BokehJS stylesheet: \", url);\n      document.body.appendChild(element);\n    }    if (((window['jsPanel'] !== undefined) && (!(window['jsPanel'] instanceof HTMLElement))) || window.requirejs) {\n      var urls = ['https://cdn.holoviz.org/panel/1.2.3/dist/bundled/floatpanel/jspanel4@4.12.0/dist/jspanel.js', 'https://cdn.holoviz.org/panel/1.2.3/dist/bundled/floatpanel/jspanel4@4.12.0/dist/extensions/modal/jspanel.modal.js', 'https://cdn.holoviz.org/panel/1.2.3/dist/bundled/floatpanel/jspanel4@4.12.0/dist/extensions/tooltip/jspanel.tooltip.js', 'https://cdn.holoviz.org/panel/1.2.3/dist/bundled/floatpanel/jspanel4@4.12.0/dist/extensions/hint/jspanel.hint.js', 'https://cdn.holoviz.org/panel/1.2.3/dist/bundled/floatpanel/jspanel4@4.12.0/dist/extensions/layout/jspanel.layout.js', 'https://cdn.holoviz.org/panel/1.2.3/dist/bundled/floatpanel/jspanel4@4.12.0/dist/extensions/contextmenu/jspanel.contextmenu.js', 'https://cdn.holoviz.org/panel/1.2.3/dist/bundled/floatpanel/jspanel4@4.12.0/dist/extensions/dock/jspanel.dock.js'];\n      for (var i = 0; i < urls.length; i++) {\n        skip.push(urls[i])\n      }\n    }    if (((window['GridStack'] !== undefined) && (!(window['GridStack'] instanceof HTMLElement))) || window.requirejs) {\n      var urls = ['https://cdn.holoviz.org/panel/1.2.3/dist/bundled/gridstack/gridstack@7.2.3/dist/gridstack-all.js'];\n      for (var i = 0; i < urls.length; i++) {\n        skip.push(urls[i])\n      }\n    }    if (((window['Notyf'] !== undefined) && (!(window['Notyf'] instanceof HTMLElement))) || window.requirejs) {\n      var urls = ['https://cdn.holoviz.org/panel/1.2.3/dist/bundled/notificationarea/notyf@3/notyf.min.js'];\n      for (var i = 0; i < urls.length; i++) {\n        skip.push(urls[i])\n      }\n    }    var existing_scripts = []\n    var scripts = document.getElementsByTagName('script')\n    for (var i = 0; i < scripts.length; i++) {\n      var script = scripts[i]\n      if (script.src != null) {\n\texisting_scripts.push(script.src)\n      }\n    }\n    for (var i = 0; i < js_urls.length; i++) {\n      var url = js_urls[i];\n      if (skip.indexOf(url) !== -1 || existing_scripts.indexOf(url) !== -1) {\n\tif (!window.requirejs) {\n\t  on_load();\n\t}\n\tcontinue;\n      }\n      var element = document.createElement('script');\n      element.onload = on_load;\n      element.onerror = on_error;\n      element.async = false;\n      element.src = url;\n      console.debug(\"Bokeh: injecting script tag for BokehJS library: \", url);\n      document.head.appendChild(element);\n    }\n    for (var i = 0; i < js_modules.length; i++) {\n      var url = js_modules[i];\n      if (skip.indexOf(url) !== -1 || existing_scripts.indexOf(url) !== -1) {\n\tif (!window.requirejs) {\n\t  on_load();\n\t}\n\tcontinue;\n      }\n      var element = document.createElement('script');\n      element.onload = on_load;\n      element.onerror = on_error;\n      element.async = false;\n      element.src = url;\n      element.type = \"module\";\n      console.debug(\"Bokeh: injecting script tag for BokehJS library: \", url);\n      document.head.appendChild(element);\n    }\n    for (const name in js_exports) {\n      var url = js_exports[name];\n      if (skip.indexOf(url) >= 0 || root[name] != null) {\n\tif (!window.requirejs) {\n\t  on_load();\n\t}\n\tcontinue;\n      }\n      var element = document.createElement('script');\n      element.onerror = on_error;\n      element.async = false;\n      element.type = \"module\";\n      console.debug(\"Bokeh: injecting script tag for BokehJS library: \", url);\n      element.textContent = `\n      import ${name} from \"${url}\"\n      window.${name} = ${name}\n      window._bokeh_on_load()\n      `\n      document.head.appendChild(element);\n    }\n    if (!js_urls.length && !js_modules.length) {\n      on_load()\n    }\n  };\n\n  function inject_raw_css(css) {\n    const element = document.createElement(\"style\");\n    element.appendChild(document.createTextNode(css));\n    document.body.appendChild(element);\n  }\n\n  var js_urls = [\"https://cdn.bokeh.org/bokeh/release/bokeh-3.2.1.min.js\", \"https://cdn.bokeh.org/bokeh/release/bokeh-gl-3.2.1.min.js\", \"https://cdn.bokeh.org/bokeh/release/bokeh-widgets-3.2.1.min.js\", \"https://cdn.bokeh.org/bokeh/release/bokeh-tables-3.2.1.min.js\", \"https://cdn.holoviz.org/panel/1.2.3/dist/panel.min.js\"];\n  var js_modules = [];\n  var js_exports = {};\n  var css_urls = [];\n  var inline_js = [    function(Bokeh) {\n      Bokeh.set_log_level(\"info\");\n    },\nfunction(Bokeh) {} // ensure no trailing comma for IE\n  ];\n\n  function run_inline_js() {\n    if ((root.Bokeh !== undefined) || (force === true)) {\n      for (var i = 0; i < inline_js.length; i++) {\n        inline_js[i].call(root, root.Bokeh);\n      }\n      // Cache old bokeh versions\n      if (Bokeh != undefined && !reloading) {\n\tvar NewBokeh = root.Bokeh;\n\tif (Bokeh.versions === undefined) {\n\t  Bokeh.versions = new Map();\n\t}\n\tif (NewBokeh.version !== Bokeh.version) {\n\t  Bokeh.versions.set(NewBokeh.version, NewBokeh)\n\t}\n\troot.Bokeh = Bokeh;\n      }} else if (Date.now() < root._bokeh_timeout) {\n      setTimeout(run_inline_js, 100);\n    } else if (!root._bokeh_failed_load) {\n      console.log(\"Bokeh: BokehJS failed to load within specified timeout.\");\n      root._bokeh_failed_load = true;\n    }\n    root._bokeh_is_initializing = false\n  }\n\n  function load_or_wait() {\n    // Implement a backoff loop that tries to ensure we do not load multiple\n    // versions of Bokeh and its dependencies at the same time.\n    // In recent versions we use the root._bokeh_is_initializing flag\n    // to determine whether there is an ongoing attempt to initialize\n    // bokeh, however for backward compatibility we also try to ensure\n    // that we do not start loading a newer (Panel>=1.0 and Bokeh>3) version\n    // before older versions are fully initialized.\n    if (root._bokeh_is_initializing && Date.now() > root._bokeh_timeout) {\n      root._bokeh_is_initializing = false;\n      root._bokeh_onload_callbacks = undefined;\n      console.log(\"Bokeh: BokehJS was loaded multiple times but one version failed to initialize.\");\n      load_or_wait();\n    } else if (root._bokeh_is_initializing || (typeof root._bokeh_is_initializing === \"undefined\" && root._bokeh_onload_callbacks !== undefined)) {\n      setTimeout(load_or_wait, 100);\n    } else {\n      Bokeh = root.Bokeh;\n      bokeh_loaded = Bokeh != null && (Bokeh.version === py_version || (Bokeh.versions !== undefined && Bokeh.versions.has(py_version)));\n      root._bokeh_is_initializing = true\n      root._bokeh_onload_callbacks = []\n      if (!reloading && (!bokeh_loaded || is_dev)) {\n\troot.Bokeh = undefined;\n      }\n      load_libs(css_urls, js_urls, js_modules, js_exports, function() {\n\tconsole.debug(\"Bokeh: BokehJS plotting callback run at\", now());\n\trun_inline_js();\n      });\n    }\n  }\n  // Give older versions of the autoload script a head-start to ensure\n  // they initialize before we start loading newer version.\n  setTimeout(load_or_wait, 100)\n}(window));",
      "application/vnd.holoviews_load.v0+json": ""
     },
     "metadata": {},
     "output_type": "display_data"
    },
    {
     "data": {
      "application/javascript": "\nif ((window.PyViz === undefined) || (window.PyViz instanceof HTMLElement)) {\n  window.PyViz = {comms: {}, comm_status:{}, kernels:{}, receivers: {}, plot_index: []}\n}\n\n\n    function JupyterCommManager() {\n    }\n\n    JupyterCommManager.prototype.register_target = function(plot_id, comm_id, msg_handler) {\n      if (window.comm_manager || ((window.Jupyter !== undefined) && (Jupyter.notebook.kernel != null))) {\n        var comm_manager = window.comm_manager || Jupyter.notebook.kernel.comm_manager;\n        comm_manager.register_target(comm_id, function(comm) {\n          comm.on_msg(msg_handler);\n        });\n      } else if ((plot_id in window.PyViz.kernels) && (window.PyViz.kernels[plot_id])) {\n        window.PyViz.kernels[plot_id].registerCommTarget(comm_id, function(comm) {\n          comm.onMsg = msg_handler;\n        });\n      } else if (typeof google != 'undefined' && google.colab.kernel != null) {\n        google.colab.kernel.comms.registerTarget(comm_id, (comm) => {\n          var messages = comm.messages[Symbol.asyncIterator]();\n          function processIteratorResult(result) {\n            var message = result.value;\n            console.log(message)\n            var content = {data: message.data, comm_id};\n            var buffers = []\n            for (var buffer of message.buffers || []) {\n              buffers.push(new DataView(buffer))\n            }\n            var metadata = message.metadata || {};\n            var msg = {content, buffers, metadata}\n            msg_handler(msg);\n            return messages.next().then(processIteratorResult);\n          }\n          return messages.next().then(processIteratorResult);\n        })\n      }\n    }\n\n    JupyterCommManager.prototype.get_client_comm = function(plot_id, comm_id, msg_handler) {\n      if (comm_id in window.PyViz.comms) {\n        return window.PyViz.comms[comm_id];\n      } else if (window.comm_manager || ((window.Jupyter !== undefined) && (Jupyter.notebook.kernel != null))) {\n        var comm_manager = window.comm_manager || Jupyter.notebook.kernel.comm_manager;\n        var comm = comm_manager.new_comm(comm_id, {}, {}, {}, comm_id);\n        if (msg_handler) {\n          comm.on_msg(msg_handler);\n        }\n      } else if ((plot_id in window.PyViz.kernels) && (window.PyViz.kernels[plot_id])) {\n        var comm = window.PyViz.kernels[plot_id].connectToComm(comm_id);\n        comm.open();\n        if (msg_handler) {\n          comm.onMsg = msg_handler;\n        }\n      } else if (typeof google != 'undefined' && google.colab.kernel != null) {\n        var comm_promise = google.colab.kernel.comms.open(comm_id)\n        comm_promise.then((comm) => {\n          window.PyViz.comms[comm_id] = comm;\n          if (msg_handler) {\n            var messages = comm.messages[Symbol.asyncIterator]();\n            function processIteratorResult(result) {\n              var message = result.value;\n              var content = {data: message.data};\n              var metadata = message.metadata || {comm_id};\n              var msg = {content, metadata}\n              msg_handler(msg);\n              return messages.next().then(processIteratorResult);\n            }\n            return messages.next().then(processIteratorResult);\n          }\n        }) \n        var sendClosure = (data, metadata, buffers, disposeOnDone) => {\n          return comm_promise.then((comm) => {\n            comm.send(data, metadata, buffers, disposeOnDone);\n          });\n        };\n        var comm = {\n          send: sendClosure\n        };\n      }\n      window.PyViz.comms[comm_id] = comm;\n      return comm;\n    }\n    window.PyViz.comm_manager = new JupyterCommManager();\n    \n\n\nvar JS_MIME_TYPE = 'application/javascript';\nvar HTML_MIME_TYPE = 'text/html';\nvar EXEC_MIME_TYPE = 'application/vnd.holoviews_exec.v0+json';\nvar CLASS_NAME = 'output';\n\n/**\n * Render data to the DOM node\n */\nfunction render(props, node) {\n  var div = document.createElement(\"div\");\n  var script = document.createElement(\"script\");\n  node.appendChild(div);\n  node.appendChild(script);\n}\n\n/**\n * Handle when a new output is added\n */\nfunction handle_add_output(event, handle) {\n  var output_area = handle.output_area;\n  var output = handle.output;\n  if ((output.data == undefined) || (!output.data.hasOwnProperty(EXEC_MIME_TYPE))) {\n    return\n  }\n  var id = output.metadata[EXEC_MIME_TYPE][\"id\"];\n  var toinsert = output_area.element.find(\".\" + CLASS_NAME.split(' ')[0]);\n  if (id !== undefined) {\n    var nchildren = toinsert.length;\n    var html_node = toinsert[nchildren-1].children[0];\n    html_node.innerHTML = output.data[HTML_MIME_TYPE];\n    var scripts = [];\n    var nodelist = html_node.querySelectorAll(\"script\");\n    for (var i in nodelist) {\n      if (nodelist.hasOwnProperty(i)) {\n        scripts.push(nodelist[i])\n      }\n    }\n\n    scripts.forEach( function (oldScript) {\n      var newScript = document.createElement(\"script\");\n      var attrs = [];\n      var nodemap = oldScript.attributes;\n      for (var j in nodemap) {\n        if (nodemap.hasOwnProperty(j)) {\n          attrs.push(nodemap[j])\n        }\n      }\n      attrs.forEach(function(attr) { newScript.setAttribute(attr.name, attr.value) });\n      newScript.appendChild(document.createTextNode(oldScript.innerHTML));\n      oldScript.parentNode.replaceChild(newScript, oldScript);\n    });\n    if (JS_MIME_TYPE in output.data) {\n      toinsert[nchildren-1].children[1].textContent = output.data[JS_MIME_TYPE];\n    }\n    output_area._hv_plot_id = id;\n    if ((window.Bokeh !== undefined) && (id in Bokeh.index)) {\n      window.PyViz.plot_index[id] = Bokeh.index[id];\n    } else {\n      window.PyViz.plot_index[id] = null;\n    }\n  } else if (output.metadata[EXEC_MIME_TYPE][\"server_id\"] !== undefined) {\n    var bk_div = document.createElement(\"div\");\n    bk_div.innerHTML = output.data[HTML_MIME_TYPE];\n    var script_attrs = bk_div.children[0].attributes;\n    for (var i = 0; i < script_attrs.length; i++) {\n      toinsert[toinsert.length - 1].childNodes[1].setAttribute(script_attrs[i].name, script_attrs[i].value);\n    }\n    // store reference to server id on output_area\n    output_area._bokeh_server_id = output.metadata[EXEC_MIME_TYPE][\"server_id\"];\n  }\n}\n\n/**\n * Handle when an output is cleared or removed\n */\nfunction handle_clear_output(event, handle) {\n  var id = handle.cell.output_area._hv_plot_id;\n  var server_id = handle.cell.output_area._bokeh_server_id;\n  if (((id === undefined) || !(id in PyViz.plot_index)) && (server_id !== undefined)) { return; }\n  var comm = window.PyViz.comm_manager.get_client_comm(\"hv-extension-comm\", \"hv-extension-comm\", function () {});\n  if (server_id !== null) {\n    comm.send({event_type: 'server_delete', 'id': server_id});\n    return;\n  } else if (comm !== null) {\n    comm.send({event_type: 'delete', 'id': id});\n  }\n  delete PyViz.plot_index[id];\n  if ((window.Bokeh !== undefined) & (id in window.Bokeh.index)) {\n    var doc = window.Bokeh.index[id].model.document\n    doc.clear();\n    const i = window.Bokeh.documents.indexOf(doc);\n    if (i > -1) {\n      window.Bokeh.documents.splice(i, 1);\n    }\n  }\n}\n\n/**\n * Handle kernel restart event\n */\nfunction handle_kernel_cleanup(event, handle) {\n  delete PyViz.comms[\"hv-extension-comm\"];\n  window.PyViz.plot_index = {}\n}\n\n/**\n * Handle update_display_data messages\n */\nfunction handle_update_output(event, handle) {\n  handle_clear_output(event, {cell: {output_area: handle.output_area}})\n  handle_add_output(event, handle)\n}\n\nfunction register_renderer(events, OutputArea) {\n  function append_mime(data, metadata, element) {\n    // create a DOM node to render to\n    var toinsert = this.create_output_subarea(\n    metadata,\n    CLASS_NAME,\n    EXEC_MIME_TYPE\n    );\n    this.keyboard_manager.register_events(toinsert);\n    // Render to node\n    var props = {data: data, metadata: metadata[EXEC_MIME_TYPE]};\n    render(props, toinsert[0]);\n    element.append(toinsert);\n    return toinsert\n  }\n\n  events.on('output_added.OutputArea', handle_add_output);\n  events.on('output_updated.OutputArea', handle_update_output);\n  events.on('clear_output.CodeCell', handle_clear_output);\n  events.on('delete.Cell', handle_clear_output);\n  events.on('kernel_ready.Kernel', handle_kernel_cleanup);\n\n  OutputArea.prototype.register_mime_type(EXEC_MIME_TYPE, append_mime, {\n    safe: true,\n    index: 0\n  });\n}\n\nif (window.Jupyter !== undefined) {\n  try {\n    var events = require('base/js/events');\n    var OutputArea = require('notebook/js/outputarea').OutputArea;\n    if (OutputArea.prototype.mime_types().indexOf(EXEC_MIME_TYPE) == -1) {\n      register_renderer(events, OutputArea);\n    }\n  } catch(err) {\n  }\n}\n",
      "application/vnd.holoviews_load.v0+json": ""
     },
     "metadata": {},
     "output_type": "display_data"
    },
    {
     "data": {
      "text/html": [
       "<style>*[data-root-id],\n",
       "*[data-root-id] > * {\n",
       "  box-sizing: border-box;\n",
       "  font-family: var(--jp-ui-font-family);\n",
       "  font-size: var(--jp-ui-font-size1);\n",
       "  color: var(--vscode-editor-foreground, var(--jp-ui-font-color1));\n",
       "}\n",
       "\n",
       "/* Override VSCode background color */\n",
       ".cell-output-ipywidget-background:has(\n",
       "    > .cell-output-ipywidget-background > .lm-Widget > *[data-root-id]\n",
       "  ),\n",
       ".cell-output-ipywidget-background:has(> .lm-Widget > *[data-root-id]) {\n",
       "  background-color: transparent !important;\n",
       "}\n",
       "</style>"
      ]
     },
     "metadata": {},
     "output_type": "display_data"
    }
   ],
   "source": [
    "# Import required libraries and dependencies\n",
    "import pandas as pd\n",
    "import hvplot.pandas\n",
    "from sklearn.cluster import KMeans\n",
    "from sklearn.decomposition import PCA\n",
    "from sklearn.preprocessing import StandardScaler\n",
    "import warnings\n",
    "warnings.filterwarnings(\"ignore\", message=\"unique with argument that is not not a Series, Index, ExtensionArray, or np.ndarray is deprecated\")\n",
    "import warnings\n",
    "warnings.filterwarnings(\"ignore\", message=\"Series.__getitem__ treating keys as positions is deprecated\")\n",
    "import holoviews as hv\n",
    "import os\n",
    "os.environ['OMP_NUM_THREADS'] = '1'\n",
    "\n"
   ]
  },
  {
   "cell_type": "code",
   "execution_count": 2,
   "metadata": {
    "metadata": {}
   },
   "outputs": [
    {
     "data": {
      "application/javascript": "(function(root) {\n  function now() {\n    return new Date();\n  }\n\n  var force = true;\n  var py_version = '3.2.1'.replace('rc', '-rc.').replace('.dev', '-dev.');\n  var is_dev = py_version.indexOf(\"+\") !== -1 || py_version.indexOf(\"-\") !== -1;\n  var reloading = false;\n  var Bokeh = root.Bokeh;\n  var bokeh_loaded = Bokeh != null && (Bokeh.version === py_version || (Bokeh.versions !== undefined && Bokeh.versions.has(py_version)));\n\n  if (typeof (root._bokeh_timeout) === \"undefined\" || force) {\n    root._bokeh_timeout = Date.now() + 5000;\n    root._bokeh_failed_load = false;\n  }\n\n  function run_callbacks() {\n    try {\n      root._bokeh_onload_callbacks.forEach(function(callback) {\n        if (callback != null)\n          callback();\n      });\n    } finally {\n      delete root._bokeh_onload_callbacks;\n    }\n    console.debug(\"Bokeh: all callbacks have finished\");\n  }\n\n  function load_libs(css_urls, js_urls, js_modules, js_exports, callback) {\n    if (css_urls == null) css_urls = [];\n    if (js_urls == null) js_urls = [];\n    if (js_modules == null) js_modules = [];\n    if (js_exports == null) js_exports = {};\n\n    root._bokeh_onload_callbacks.push(callback);\n\n    if (root._bokeh_is_loading > 0) {\n      console.debug(\"Bokeh: BokehJS is being loaded, scheduling callback at\", now());\n      return null;\n    }\n    if (js_urls.length === 0 && js_modules.length === 0 && Object.keys(js_exports).length === 0) {\n      run_callbacks();\n      return null;\n    }\n    if (!reloading) {\n      console.debug(\"Bokeh: BokehJS not loaded, scheduling load and callback at\", now());\n    }\n\n    function on_load() {\n      root._bokeh_is_loading--;\n      if (root._bokeh_is_loading === 0) {\n        console.debug(\"Bokeh: all BokehJS libraries/stylesheets loaded\");\n        run_callbacks()\n      }\n    }\n    window._bokeh_on_load = on_load\n\n    function on_error() {\n      console.error(\"failed to load \" + url);\n    }\n\n    var skip = [];\n    if (window.requirejs) {\n      window.requirejs.config({'packages': {}, 'paths': {'jspanel': 'https://cdn.jsdelivr.net/npm/jspanel4@4.12.0/dist/jspanel', 'jspanel-modal': 'https://cdn.jsdelivr.net/npm/jspanel4@4.12.0/dist/extensions/modal/jspanel.modal', 'jspanel-tooltip': 'https://cdn.jsdelivr.net/npm/jspanel4@4.12.0/dist/extensions/tooltip/jspanel.tooltip', 'jspanel-hint': 'https://cdn.jsdelivr.net/npm/jspanel4@4.12.0/dist/extensions/hint/jspanel.hint', 'jspanel-layout': 'https://cdn.jsdelivr.net/npm/jspanel4@4.12.0/dist/extensions/layout/jspanel.layout', 'jspanel-contextmenu': 'https://cdn.jsdelivr.net/npm/jspanel4@4.12.0/dist/extensions/contextmenu/jspanel.contextmenu', 'jspanel-dock': 'https://cdn.jsdelivr.net/npm/jspanel4@4.12.0/dist/extensions/dock/jspanel.dock', 'gridstack': 'https://cdn.jsdelivr.net/npm/gridstack@7.2.3/dist/gridstack-all', 'notyf': 'https://cdn.jsdelivr.net/npm/notyf@3/notyf.min'}, 'shim': {'jspanel': {'exports': 'jsPanel'}, 'gridstack': {'exports': 'GridStack'}}});\n      require([\"jspanel\"], function(jsPanel) {\n\twindow.jsPanel = jsPanel\n\ton_load()\n      })\n      require([\"jspanel-modal\"], function() {\n\ton_load()\n      })\n      require([\"jspanel-tooltip\"], function() {\n\ton_load()\n      })\n      require([\"jspanel-hint\"], function() {\n\ton_load()\n      })\n      require([\"jspanel-layout\"], function() {\n\ton_load()\n      })\n      require([\"jspanel-contextmenu\"], function() {\n\ton_load()\n      })\n      require([\"jspanel-dock\"], function() {\n\ton_load()\n      })\n      require([\"gridstack\"], function(GridStack) {\n\twindow.GridStack = GridStack\n\ton_load()\n      })\n      require([\"notyf\"], function() {\n\ton_load()\n      })\n      root._bokeh_is_loading = css_urls.length + 9;\n    } else {\n      root._bokeh_is_loading = css_urls.length + js_urls.length + js_modules.length + Object.keys(js_exports).length;\n    }\n\n    var existing_stylesheets = []\n    var links = document.getElementsByTagName('link')\n    for (var i = 0; i < links.length; i++) {\n      var link = links[i]\n      if (link.href != null) {\n\texisting_stylesheets.push(link.href)\n      }\n    }\n    for (var i = 0; i < css_urls.length; i++) {\n      var url = css_urls[i];\n      if (existing_stylesheets.indexOf(url) !== -1) {\n\ton_load()\n\tcontinue;\n      }\n      const element = document.createElement(\"link\");\n      element.onload = on_load;\n      element.onerror = on_error;\n      element.rel = \"stylesheet\";\n      element.type = \"text/css\";\n      element.href = url;\n      console.debug(\"Bokeh: injecting link tag for BokehJS stylesheet: \", url);\n      document.body.appendChild(element);\n    }    if (((window['jsPanel'] !== undefined) && (!(window['jsPanel'] instanceof HTMLElement))) || window.requirejs) {\n      var urls = ['https://cdn.holoviz.org/panel/1.2.3/dist/bundled/floatpanel/jspanel4@4.12.0/dist/jspanel.js', 'https://cdn.holoviz.org/panel/1.2.3/dist/bundled/floatpanel/jspanel4@4.12.0/dist/extensions/modal/jspanel.modal.js', 'https://cdn.holoviz.org/panel/1.2.3/dist/bundled/floatpanel/jspanel4@4.12.0/dist/extensions/tooltip/jspanel.tooltip.js', 'https://cdn.holoviz.org/panel/1.2.3/dist/bundled/floatpanel/jspanel4@4.12.0/dist/extensions/hint/jspanel.hint.js', 'https://cdn.holoviz.org/panel/1.2.3/dist/bundled/floatpanel/jspanel4@4.12.0/dist/extensions/layout/jspanel.layout.js', 'https://cdn.holoviz.org/panel/1.2.3/dist/bundled/floatpanel/jspanel4@4.12.0/dist/extensions/contextmenu/jspanel.contextmenu.js', 'https://cdn.holoviz.org/panel/1.2.3/dist/bundled/floatpanel/jspanel4@4.12.0/dist/extensions/dock/jspanel.dock.js'];\n      for (var i = 0; i < urls.length; i++) {\n        skip.push(urls[i])\n      }\n    }    if (((window['GridStack'] !== undefined) && (!(window['GridStack'] instanceof HTMLElement))) || window.requirejs) {\n      var urls = ['https://cdn.holoviz.org/panel/1.2.3/dist/bundled/gridstack/gridstack@7.2.3/dist/gridstack-all.js'];\n      for (var i = 0; i < urls.length; i++) {\n        skip.push(urls[i])\n      }\n    }    if (((window['Notyf'] !== undefined) && (!(window['Notyf'] instanceof HTMLElement))) || window.requirejs) {\n      var urls = ['https://cdn.holoviz.org/panel/1.2.3/dist/bundled/notificationarea/notyf@3/notyf.min.js'];\n      for (var i = 0; i < urls.length; i++) {\n        skip.push(urls[i])\n      }\n    }    var existing_scripts = []\n    var scripts = document.getElementsByTagName('script')\n    for (var i = 0; i < scripts.length; i++) {\n      var script = scripts[i]\n      if (script.src != null) {\n\texisting_scripts.push(script.src)\n      }\n    }\n    for (var i = 0; i < js_urls.length; i++) {\n      var url = js_urls[i];\n      if (skip.indexOf(url) !== -1 || existing_scripts.indexOf(url) !== -1) {\n\tif (!window.requirejs) {\n\t  on_load();\n\t}\n\tcontinue;\n      }\n      var element = document.createElement('script');\n      element.onload = on_load;\n      element.onerror = on_error;\n      element.async = false;\n      element.src = url;\n      console.debug(\"Bokeh: injecting script tag for BokehJS library: \", url);\n      document.head.appendChild(element);\n    }\n    for (var i = 0; i < js_modules.length; i++) {\n      var url = js_modules[i];\n      if (skip.indexOf(url) !== -1 || existing_scripts.indexOf(url) !== -1) {\n\tif (!window.requirejs) {\n\t  on_load();\n\t}\n\tcontinue;\n      }\n      var element = document.createElement('script');\n      element.onload = on_load;\n      element.onerror = on_error;\n      element.async = false;\n      element.src = url;\n      element.type = \"module\";\n      console.debug(\"Bokeh: injecting script tag for BokehJS library: \", url);\n      document.head.appendChild(element);\n    }\n    for (const name in js_exports) {\n      var url = js_exports[name];\n      if (skip.indexOf(url) >= 0 || root[name] != null) {\n\tif (!window.requirejs) {\n\t  on_load();\n\t}\n\tcontinue;\n      }\n      var element = document.createElement('script');\n      element.onerror = on_error;\n      element.async = false;\n      element.type = \"module\";\n      console.debug(\"Bokeh: injecting script tag for BokehJS library: \", url);\n      element.textContent = `\n      import ${name} from \"${url}\"\n      window.${name} = ${name}\n      window._bokeh_on_load()\n      `\n      document.head.appendChild(element);\n    }\n    if (!js_urls.length && !js_modules.length) {\n      on_load()\n    }\n  };\n\n  function inject_raw_css(css) {\n    const element = document.createElement(\"style\");\n    element.appendChild(document.createTextNode(css));\n    document.body.appendChild(element);\n  }\n\n  var js_urls = [\"https://cdn.bokeh.org/bokeh/release/bokeh-3.2.1.min.js\", \"https://cdn.bokeh.org/bokeh/release/bokeh-gl-3.2.1.min.js\", \"https://cdn.bokeh.org/bokeh/release/bokeh-widgets-3.2.1.min.js\", \"https://cdn.bokeh.org/bokeh/release/bokeh-tables-3.2.1.min.js\", \"https://cdn.holoviz.org/panel/1.2.3/dist/panel.min.js\"];\n  var js_modules = [];\n  var js_exports = {};\n  var css_urls = [];\n  var inline_js = [    function(Bokeh) {\n      Bokeh.set_log_level(\"info\");\n    },\nfunction(Bokeh) {} // ensure no trailing comma for IE\n  ];\n\n  function run_inline_js() {\n    if ((root.Bokeh !== undefined) || (force === true)) {\n      for (var i = 0; i < inline_js.length; i++) {\n        inline_js[i].call(root, root.Bokeh);\n      }\n      // Cache old bokeh versions\n      if (Bokeh != undefined && !reloading) {\n\tvar NewBokeh = root.Bokeh;\n\tif (Bokeh.versions === undefined) {\n\t  Bokeh.versions = new Map();\n\t}\n\tif (NewBokeh.version !== Bokeh.version) {\n\t  Bokeh.versions.set(NewBokeh.version, NewBokeh)\n\t}\n\troot.Bokeh = Bokeh;\n      }} else if (Date.now() < root._bokeh_timeout) {\n      setTimeout(run_inline_js, 100);\n    } else if (!root._bokeh_failed_load) {\n      console.log(\"Bokeh: BokehJS failed to load within specified timeout.\");\n      root._bokeh_failed_load = true;\n    }\n    root._bokeh_is_initializing = false\n  }\n\n  function load_or_wait() {\n    // Implement a backoff loop that tries to ensure we do not load multiple\n    // versions of Bokeh and its dependencies at the same time.\n    // In recent versions we use the root._bokeh_is_initializing flag\n    // to determine whether there is an ongoing attempt to initialize\n    // bokeh, however for backward compatibility we also try to ensure\n    // that we do not start loading a newer (Panel>=1.0 and Bokeh>3) version\n    // before older versions are fully initialized.\n    if (root._bokeh_is_initializing && Date.now() > root._bokeh_timeout) {\n      root._bokeh_is_initializing = false;\n      root._bokeh_onload_callbacks = undefined;\n      console.log(\"Bokeh: BokehJS was loaded multiple times but one version failed to initialize.\");\n      load_or_wait();\n    } else if (root._bokeh_is_initializing || (typeof root._bokeh_is_initializing === \"undefined\" && root._bokeh_onload_callbacks !== undefined)) {\n      setTimeout(load_or_wait, 100);\n    } else {\n      Bokeh = root.Bokeh;\n      bokeh_loaded = Bokeh != null && (Bokeh.version === py_version || (Bokeh.versions !== undefined && Bokeh.versions.has(py_version)));\n      root._bokeh_is_initializing = true\n      root._bokeh_onload_callbacks = []\n      if (!reloading && (!bokeh_loaded || is_dev)) {\n\troot.Bokeh = undefined;\n      }\n      load_libs(css_urls, js_urls, js_modules, js_exports, function() {\n\tconsole.debug(\"Bokeh: BokehJS plotting callback run at\", now());\n\trun_inline_js();\n      });\n    }\n  }\n  // Give older versions of the autoload script a head-start to ensure\n  // they initialize before we start loading newer version.\n  setTimeout(load_or_wait, 100)\n}(window));",
      "application/vnd.holoviews_load.v0+json": ""
     },
     "metadata": {},
     "output_type": "display_data"
    },
    {
     "data": {
      "application/javascript": "\nif ((window.PyViz === undefined) || (window.PyViz instanceof HTMLElement)) {\n  window.PyViz = {comms: {}, comm_status:{}, kernels:{}, receivers: {}, plot_index: []}\n}\n\n\n    function JupyterCommManager() {\n    }\n\n    JupyterCommManager.prototype.register_target = function(plot_id, comm_id, msg_handler) {\n      if (window.comm_manager || ((window.Jupyter !== undefined) && (Jupyter.notebook.kernel != null))) {\n        var comm_manager = window.comm_manager || Jupyter.notebook.kernel.comm_manager;\n        comm_manager.register_target(comm_id, function(comm) {\n          comm.on_msg(msg_handler);\n        });\n      } else if ((plot_id in window.PyViz.kernels) && (window.PyViz.kernels[plot_id])) {\n        window.PyViz.kernels[plot_id].registerCommTarget(comm_id, function(comm) {\n          comm.onMsg = msg_handler;\n        });\n      } else if (typeof google != 'undefined' && google.colab.kernel != null) {\n        google.colab.kernel.comms.registerTarget(comm_id, (comm) => {\n          var messages = comm.messages[Symbol.asyncIterator]();\n          function processIteratorResult(result) {\n            var message = result.value;\n            console.log(message)\n            var content = {data: message.data, comm_id};\n            var buffers = []\n            for (var buffer of message.buffers || []) {\n              buffers.push(new DataView(buffer))\n            }\n            var metadata = message.metadata || {};\n            var msg = {content, buffers, metadata}\n            msg_handler(msg);\n            return messages.next().then(processIteratorResult);\n          }\n          return messages.next().then(processIteratorResult);\n        })\n      }\n    }\n\n    JupyterCommManager.prototype.get_client_comm = function(plot_id, comm_id, msg_handler) {\n      if (comm_id in window.PyViz.comms) {\n        return window.PyViz.comms[comm_id];\n      } else if (window.comm_manager || ((window.Jupyter !== undefined) && (Jupyter.notebook.kernel != null))) {\n        var comm_manager = window.comm_manager || Jupyter.notebook.kernel.comm_manager;\n        var comm = comm_manager.new_comm(comm_id, {}, {}, {}, comm_id);\n        if (msg_handler) {\n          comm.on_msg(msg_handler);\n        }\n      } else if ((plot_id in window.PyViz.kernels) && (window.PyViz.kernels[plot_id])) {\n        var comm = window.PyViz.kernels[plot_id].connectToComm(comm_id);\n        comm.open();\n        if (msg_handler) {\n          comm.onMsg = msg_handler;\n        }\n      } else if (typeof google != 'undefined' && google.colab.kernel != null) {\n        var comm_promise = google.colab.kernel.comms.open(comm_id)\n        comm_promise.then((comm) => {\n          window.PyViz.comms[comm_id] = comm;\n          if (msg_handler) {\n            var messages = comm.messages[Symbol.asyncIterator]();\n            function processIteratorResult(result) {\n              var message = result.value;\n              var content = {data: message.data};\n              var metadata = message.metadata || {comm_id};\n              var msg = {content, metadata}\n              msg_handler(msg);\n              return messages.next().then(processIteratorResult);\n            }\n            return messages.next().then(processIteratorResult);\n          }\n        }) \n        var sendClosure = (data, metadata, buffers, disposeOnDone) => {\n          return comm_promise.then((comm) => {\n            comm.send(data, metadata, buffers, disposeOnDone);\n          });\n        };\n        var comm = {\n          send: sendClosure\n        };\n      }\n      window.PyViz.comms[comm_id] = comm;\n      return comm;\n    }\n    window.PyViz.comm_manager = new JupyterCommManager();\n    \n\n\nvar JS_MIME_TYPE = 'application/javascript';\nvar HTML_MIME_TYPE = 'text/html';\nvar EXEC_MIME_TYPE = 'application/vnd.holoviews_exec.v0+json';\nvar CLASS_NAME = 'output';\n\n/**\n * Render data to the DOM node\n */\nfunction render(props, node) {\n  var div = document.createElement(\"div\");\n  var script = document.createElement(\"script\");\n  node.appendChild(div);\n  node.appendChild(script);\n}\n\n/**\n * Handle when a new output is added\n */\nfunction handle_add_output(event, handle) {\n  var output_area = handle.output_area;\n  var output = handle.output;\n  if ((output.data == undefined) || (!output.data.hasOwnProperty(EXEC_MIME_TYPE))) {\n    return\n  }\n  var id = output.metadata[EXEC_MIME_TYPE][\"id\"];\n  var toinsert = output_area.element.find(\".\" + CLASS_NAME.split(' ')[0]);\n  if (id !== undefined) {\n    var nchildren = toinsert.length;\n    var html_node = toinsert[nchildren-1].children[0];\n    html_node.innerHTML = output.data[HTML_MIME_TYPE];\n    var scripts = [];\n    var nodelist = html_node.querySelectorAll(\"script\");\n    for (var i in nodelist) {\n      if (nodelist.hasOwnProperty(i)) {\n        scripts.push(nodelist[i])\n      }\n    }\n\n    scripts.forEach( function (oldScript) {\n      var newScript = document.createElement(\"script\");\n      var attrs = [];\n      var nodemap = oldScript.attributes;\n      for (var j in nodemap) {\n        if (nodemap.hasOwnProperty(j)) {\n          attrs.push(nodemap[j])\n        }\n      }\n      attrs.forEach(function(attr) { newScript.setAttribute(attr.name, attr.value) });\n      newScript.appendChild(document.createTextNode(oldScript.innerHTML));\n      oldScript.parentNode.replaceChild(newScript, oldScript);\n    });\n    if (JS_MIME_TYPE in output.data) {\n      toinsert[nchildren-1].children[1].textContent = output.data[JS_MIME_TYPE];\n    }\n    output_area._hv_plot_id = id;\n    if ((window.Bokeh !== undefined) && (id in Bokeh.index)) {\n      window.PyViz.plot_index[id] = Bokeh.index[id];\n    } else {\n      window.PyViz.plot_index[id] = null;\n    }\n  } else if (output.metadata[EXEC_MIME_TYPE][\"server_id\"] !== undefined) {\n    var bk_div = document.createElement(\"div\");\n    bk_div.innerHTML = output.data[HTML_MIME_TYPE];\n    var script_attrs = bk_div.children[0].attributes;\n    for (var i = 0; i < script_attrs.length; i++) {\n      toinsert[toinsert.length - 1].childNodes[1].setAttribute(script_attrs[i].name, script_attrs[i].value);\n    }\n    // store reference to server id on output_area\n    output_area._bokeh_server_id = output.metadata[EXEC_MIME_TYPE][\"server_id\"];\n  }\n}\n\n/**\n * Handle when an output is cleared or removed\n */\nfunction handle_clear_output(event, handle) {\n  var id = handle.cell.output_area._hv_plot_id;\n  var server_id = handle.cell.output_area._bokeh_server_id;\n  if (((id === undefined) || !(id in PyViz.plot_index)) && (server_id !== undefined)) { return; }\n  var comm = window.PyViz.comm_manager.get_client_comm(\"hv-extension-comm\", \"hv-extension-comm\", function () {});\n  if (server_id !== null) {\n    comm.send({event_type: 'server_delete', 'id': server_id});\n    return;\n  } else if (comm !== null) {\n    comm.send({event_type: 'delete', 'id': id});\n  }\n  delete PyViz.plot_index[id];\n  if ((window.Bokeh !== undefined) & (id in window.Bokeh.index)) {\n    var doc = window.Bokeh.index[id].model.document\n    doc.clear();\n    const i = window.Bokeh.documents.indexOf(doc);\n    if (i > -1) {\n      window.Bokeh.documents.splice(i, 1);\n    }\n  }\n}\n\n/**\n * Handle kernel restart event\n */\nfunction handle_kernel_cleanup(event, handle) {\n  delete PyViz.comms[\"hv-extension-comm\"];\n  window.PyViz.plot_index = {}\n}\n\n/**\n * Handle update_display_data messages\n */\nfunction handle_update_output(event, handle) {\n  handle_clear_output(event, {cell: {output_area: handle.output_area}})\n  handle_add_output(event, handle)\n}\n\nfunction register_renderer(events, OutputArea) {\n  function append_mime(data, metadata, element) {\n    // create a DOM node to render to\n    var toinsert = this.create_output_subarea(\n    metadata,\n    CLASS_NAME,\n    EXEC_MIME_TYPE\n    );\n    this.keyboard_manager.register_events(toinsert);\n    // Render to node\n    var props = {data: data, metadata: metadata[EXEC_MIME_TYPE]};\n    render(props, toinsert[0]);\n    element.append(toinsert);\n    return toinsert\n  }\n\n  events.on('output_added.OutputArea', handle_add_output);\n  events.on('output_updated.OutputArea', handle_update_output);\n  events.on('clear_output.CodeCell', handle_clear_output);\n  events.on('delete.Cell', handle_clear_output);\n  events.on('kernel_ready.Kernel', handle_kernel_cleanup);\n\n  OutputArea.prototype.register_mime_type(EXEC_MIME_TYPE, append_mime, {\n    safe: true,\n    index: 0\n  });\n}\n\nif (window.Jupyter !== undefined) {\n  try {\n    var events = require('base/js/events');\n    var OutputArea = require('notebook/js/outputarea').OutputArea;\n    if (OutputArea.prototype.mime_types().indexOf(EXEC_MIME_TYPE) == -1) {\n      register_renderer(events, OutputArea);\n    }\n  } catch(err) {\n  }\n}\n",
      "application/vnd.holoviews_load.v0+json": ""
     },
     "metadata": {},
     "output_type": "display_data"
    },
    {
     "data": {
      "text/html": [
       "<style>*[data-root-id],\n",
       "*[data-root-id] > * {\n",
       "  box-sizing: border-box;\n",
       "  font-family: var(--jp-ui-font-family);\n",
       "  font-size: var(--jp-ui-font-size1);\n",
       "  color: var(--vscode-editor-foreground, var(--jp-ui-font-color1));\n",
       "}\n",
       "\n",
       "/* Override VSCode background color */\n",
       ".cell-output-ipywidget-background:has(\n",
       "    > .cell-output-ipywidget-background > .lm-Widget > *[data-root-id]\n",
       "  ),\n",
       ".cell-output-ipywidget-background:has(> .lm-Widget > *[data-root-id]) {\n",
       "  background-color: transparent !important;\n",
       "}\n",
       "</style>"
      ]
     },
     "metadata": {},
     "output_type": "display_data"
    },
    {
     "data": {
      "text/html": [
       "\n",
       "<div class=\"logo-block\">\n",
       "<img src='data:image/png;base64,iVBORw0KGgoAAAANSUhEUgAAAEAAAABACAYAAACqaXHeAAAABHNCSVQICAgIfAhkiAAAAAlwSFlz\n",
       "AAAB+wAAAfsBxc2miwAAABl0RVh0U29mdHdhcmUAd3d3Lmlua3NjYXBlLm9yZ5vuPBoAAA6zSURB\n",
       "VHic7ZtpeFRVmsf/5966taWqUlUJ2UioBBJiIBAwCZtog9IOgjqACsogKtqirT2ttt069nQ/zDzt\n",
       "tI4+CrJIREFaFgWhBXpUNhHZQoKBkIUASchWla1S+3ar7r1nPkDaCAnZKoQP/D7mnPOe9/xy76n3\n",
       "nFSAW9ziFoPFNED2LLK5wcyBDObkb8ZkxuaoSYlI6ZcOKq1eWFdedqNzGHQBk9RMEwFAASkk0Xw3\n",
       "ETacDNi2vtvc7L0ROdw0AjoSotQVkKSvHQz/wRO1lScGModBFbDMaNRN1A4tUBCS3lk7BWhQkgpD\n",
       "lG4852/+7DWr1R3uHAZVQDsbh6ZPN7CyxUrCzJMRouusj0ipRwD2uKm0Zn5d2dFwzX1TCGhnmdGo\n",
       "G62Nna+isiUqhkzuKrkQaJlPEv5mFl2fvGg2t/VnzkEV8F5ioioOEWkLG86fvbpthynjdhXYZziQ\n",
       "x1hC9J2NFyi8vCTt91Fh04KGip0AaG9zuCk2wQCVyoNU3Hjezee9bq92duzzTmxsRJoy+jEZZZYo\n",
       "GTKJ6SJngdJqAfRzpze0+jHreUtPc7gpBLQnIYK6BYp/uGhw9YK688eu7v95ysgshcg9qSLMo3JC\n",
       "4jqLKQFBgdKDPoQ+Pltb8dUyQLpeDjeVgI6EgLIQFT5tEl3rn2losHVsexbZ3EyT9wE1uGdkIPcy\n",
       "BGxn8QUq1QrA5nqW5i2tLqvrrM9NK6AdkVIvL9E9bZL/oyfMVd/jqvc8LylzRBKDJSzIExwhQzuL\n",
       "QYGQj4rHfFTc8mUdu3E7yoLtbTe9gI4EqVgVkug2i5+uXGo919ixbRog+3fTbQ8qJe4ZOYNfMoTI\n",
       "OoshUNosgO60AisX15aeI2PSIp5KiFLI9ubb1vV3Qb2ltwLakUCDAkWX7/nHKRmmGIl9VgYsUhJm\n",
       "2NXjKYADtM1ygne9QQDIXlk49FBstMKx66D1v4+XuQr7vqTe0VcBHQlRWiOCbmmSYe2SqtL6q5rJ\n",
       "zsTb7lKx3FKOYC4DoqyS/B5bvLPxvD9Qtf6saxYLQGJErmDOdOMr/zo96km1nElr8bmPOBwI9COv\n",
       "HnFPRIwmkSOv9kcAS4heRsidOkpeWBgZM+UBrTFAXNYL5Vf2ii9c1trNzpYdaoVil3WIc+wdk+gQ\n",
       "noie3ecCcxt9ITcLAPWt/laGEO/9U6PmzZkenTtsSMQ8uYywJVW+grCstAvCIaAdArAsIWkRDDs/\n",
       "KzLm2YcjY1Lv0UdW73HabE9n6V66cxSzfEmuJssTpKGVp+0vHq73FwL46eOjpMpbRAnNmJFrGJNu\n",
       "Ukf9Yrz+3rghiumCKNXXWPhLYcjxGsIpoCMsIRoFITkW8AuyM8jC1+/QLx4bozCEJIq38+1rtpR6\n",
       "V/yzb8eBlRb3fo5l783N0CWolAzJHaVNzkrTzlEp2bQ2q3TC5gn6wpnoQAmwSiGh2GitnTmVMc5O\n",
       "UyfKWUKCIsU7+fZDKwqdT6DDpvkzAX4/+AMFjk0tDp5GRXLpQ2MUmhgDp5gxQT8+Y7hyPsMi8uxF\n",
       "71H0oebujHALECjFKaW9Lm68n18wXp2kVzIcABytD5iXFzg+WVXkegpAsOOYziqo0OkK76GyquC3\n",
       "ltZAzMhhqlSNmmWTE5T6e3IN05ITFLM4GdN0vtZ3ob8Jh1NAKXFbm5PtLU/eqTSlGjkNAJjdgn/N\n",
       "aedXa0tdi7+t9G0FIF49rtMSEgAs1kDLkTPO7ebm4IUWeyh1bKomXqlgMG6kJmHcSM0clYLJ8XtR\n",
       "1GTnbV3F6I5wCGikAb402npp1h1s7LQUZZSMIfALFOuL3UUrfnS8+rez7v9qcold5tilgHbO1fjK\n",
       "9ubb17u9oshxzMiUBKXWqJNxd+fqb0tLVs4lILFnK71H0Ind7uiPgACVcFJlrb0tV6DzxqqTIhUM\n",
       "CwDf1/rrVhTa33/3pGPxJYdQ2l2cbgVcQSosdx8uqnDtbGjh9SlDVSMNWhlnilfqZk42Th2ZpLpf\n",
       "xrHec5e815zrr0dfBZSwzkZfqsv+1FS1KUknUwPARVvItfKUY+cn57yP7qv07UE3p8B2uhUwLk09\n",
       "e0SCOrK+hbdYHYLjRIl71wWzv9jpEoeOHhGRrJAzyEyNiJuUqX0g2sBN5kGK6y2Blp5M3lsB9Qh4\n",
       "y2Ja6x6+i0ucmKgwMATwhSjdUu49tKrQ/pvN5d53ml2CGwCmJipmKjgmyuaXzNeL2a0AkQ01Th5j\n",
       "2DktO3Jyk8f9vcOBQHV94OK+fPumJmvQHxJoWkaKWq9Vs+yUsbq0zGT1I4RgeH2b5wef7+c7bl8F\n",
       "eKgoHVVZa8ZPEORzR6sT1BzDUAD/d9F78e2Tzv99v8D+fLVTqAKAsbGamKey1Mt9Ann4eH3gTXTz\n",
       "idWtAJ8PQWOk7NzSeQn/OTHDuEikVF1R4z8BQCy+6D1aWRfY0tTGG2OM8rRoPaeIj5ZHzJxszElN\n",
       "VM8K8JS5WOfv8mzRnQAKoEhmt8gyPM4lU9SmBK1MCQBnW4KONT86v1hZ1PbwSXPw4JWussVjtH9Y\n",
       "NCoiL9UoH/6PSu8jFrfY2t36erQHXLIEakMi1SydmzB31h3GGXFDFNPaK8Rme9B79Ixrd0WN+1ij\n",
       "NRQ/doRmuFLBkHSTOm5GruG+pFjFdAmorG4IXH1Qua6ASniclfFtDYt+oUjKipPrCQB7QBQ2lrgP\n",
       "fFzm+9XWUtcqJ3/5vDLDpJ79XHZk3u8nGZ42qlj1+ydtbxysCezrydp6ugmipNJ7WBPB5tydY0jP\n",
       "HaVNzs3QzeE4ZpTbI+ZbnSFPbVOw9vsfnVvqWnirPyCNGD08IlqtYkh2hjZ5dErEQzoNm+6ykyOt\n",
       "Lt5/PQEuSRRKo22VkydK+vvS1XEKlhCJAnsqvcVvH7f/ZU2R67eXbMEGAMiIV5oWZWiWvz5Fv2xG\n",
       "sjqNJQRvn3Rs2lji/lNP19VjAQDgD7FHhujZB9OGqYxRkZxixgRDVlqS6uEOFaJUVu0rPFzctrnF\n",
       "JqijImVp8dEKVWyUXDk92zAuMZ6bFwpBU1HrOw6AdhQgUooChb0+ItMbWJitSo5Ws3IAOGEOtL53\n",
       "0vHZih9sC4vtofZ7Qu6523V/fmGcds1TY3V36pUsBwAbSlxnVh2xLfAD/IAIMDf7XYIkNmXfpp2l\n",
       "18rkAJAy9HKFaIr/qULkeQQKy9zf1JgDB2uaeFNGijo5QsUyacNUUTOnGO42xSnv4oOwpDi1zYkc\n",
       "efUc3I5Gk6PhyTuVKaOGyLUAYPGIoY9Pu/atL/L92+4q9wbflRJ2Trpm/jPjdBtfnqB/dIThcl8A\n",
       "KG7hbRuKnb8qsQsVvVlTrwQAQMUlf3kwJI24Z4JhPMtcfng5GcH49GsrxJpGvvHIaeem2ma+KSjQ\n",
       "lIwUdYyCY8j4dE1KzijNnIP2llF2wcXNnsoapw9XxsgYAl6k+KzUXbi2yP3KR2ecf6z3BFsBICdW\n",
       "nvnIaG3eHybqX7vbpEqUMT+9OL4Qpe8VON7dXuFd39v19FoAABRVePbGGuXTszO0P7tu6lghUonE\n",
       "llRdrhArLvmKdh9u29jcFiRRkfLUxBiFNiqSU9icoZQHo5mYBI1MBgBH6wMNb+U7Pnw337H4gi1Y\n",
       "ciWs+uks3Z9fztUvfzxTm9Ne8XXkvQLHNytOOZeiD4e0PgkAIAYCYknKUNUDSXEKzdWNpnil7r4p\n",
       "xqkjTarZMtk/K8TQ6Qve78qqvXurGwIJqcOUKfUWHsm8KGvxSP68YudXq4pcj39X49uOK2X142O0\n",
       "Tz5/u/7TVybqH0rSya6ZBwD21/gubbrgWdDgEOx9WUhfBaC2ibcEBYm7a7x+ukrBMNcEZggyR0TE\n",
       "T8zUPjikQ4VosQZbTpS4vqizBKvqmvjsqnpfzaZyx9JPiz1/bfGKdgD45XB1zoIMzYbfTdS/NClB\n",
       "Gct0USiY3YL/g0LHy/uq/Ef6uo5+n0R/vyhp17Klpge763f8rMu6YU/zrn2nml+2WtH+Z+5IAAFc\n",
       "2bUTdTDOSNa9+cQY7YLsOIXhevEkCvzph7a8laecz/Un/z4/Ae04XeL3UQb57IwU9ZDr9UuKVajv\n",
       "nxp1+1UVIo/LjztZkKH59fO3G/JemqCfmaCRqbqbd90ZZ8FfjtkfAyD0J/9+C2h1hDwsSxvGjNDc\n",
       "b4zk5NfrSwiQblLHzZhg+Jf4aPlUwpDqkQqa9nimbt1/TDH8OitGMaQnj+RJS6B1fbF7SY1TqO5v\n",
       "/v0WAADl1f7zokgS7s7VT2DZ7pegUjBM7mjtiDZbcN4j0YrHH0rXpCtY0qPX0cVL0rv5jv/ZXend\n",
       "0u/EESYBAFBU4T4Qa5TflZOhTe7pmKpaP8kCVUVw1+yhXfJWvn1P3hnXi33JsTN6PnP3hHZ8Z3/h\n",
       "aLHzmkNPuPj7Bc/F/Q38CwjTpSwQXgE4Vmwry9tpfq/ZFgqFMy4AVDtCvi8rvMvOmv0N4YwbVgEA\n",
       "sPM72/KVnzfspmH7HQGCRLG2yL1+z8XwvPcdCbsAANh+xPzstgMtxeGKt+6MK3/tacfvwhWvIwMi\n",
       "oKEBtm0H7W+UVfkc/Y1V0BhoPlDr/w1w/eu1vjIgAgDg22OtX6/eYfnEz/focrZTHAFR+PSs56/7\n",
       "q32nwpjazxgwAQCwcU/T62t3WL7r6/jVRa6/byp1rei+Z98ZUAEAhEPHPc8fKnTU9nbgtnOe8h0l\n",
       "9hcGIqmODLQAHCy2Xti6v/XNRivf43f4fFvIteu854+VHnR7q9tfBlwAAGz+pnndB9vM26UebAe8\n",
       "SLHujPOTPVW+rwY+sxskAAC2HrA8t2Vvc7ffP1r9o+vwR2dcr92InIAbKKC1FZ5tB1tf+/G8p8sv\n",
       "N/9Q5zd/XR34LYCwV5JdccMEAMDBk45DH243r/X4xGvqxFa/GNpS7n6rwOwNWwHVE26oAADYurf1\n",
       "zx/utOzt+DMKYM0p17YtZZ5VNzqfsB2HewG1WXE8PoZ7gOclbTIvynZf9JV+fqZtfgs/8F/Nu5rB\n",
       "EIBmJ+8QRMmpU7EzGRsf2FzuePqYRbzh/zE26EwdrT10f6r6o8HOYzCJB9Dpff8tbnGLG8L/A/WE\n",
       "roTBs2RqAAAAAElFTkSuQmCC'\n",
       "     style='height:25px; border-radius:12px; display: inline-block; float: left; vertical-align: middle'></img>\n",
       "\n",
       "\n",
       "\n",
       "\n",
       "  <img src='data:image/png;base64,iVBORw0KGgoAAAANSUhEUgAAACAAAAAgCAYAAABzenr0AAAABHNCSVQICAgIfAhkiAAAAAlwSFlz\n",
       "AAAFMAAABTABZarKtgAAABl0RVh0U29mdHdhcmUAd3d3Lmlua3NjYXBlLm9yZ5vuPBoAAArNSURB\n",
       "VFiFnVd5VFNXGv/ee0kgGyQhbFoXIKCFYEXEDVErTucMoKUOWA/VLsNSLPQgFTOdyrHPiIp1lFIQ\n",
       "OlaPShEG3EpPcQmISCuV1bQ1CLKIULeQhJA9JO+9+UMT0x5aPfOdc895373f/e7v/t537/ddBF5Q\n",
       "JBIJl81mJwCACEVRQBCEQhAEAQCgnghCURRCkmS7Wq2+WlJSYn0Rv8jzDHAcD0EQJIVGo5mFQuGF\n",
       "jIyMu39kq1KpkOrq6gU6nS6aIAiGzWY7VVBQ0P9/AcjNzWXy+fxcOp2uiY+Przm0d6+n8dblv/Fo\n",
       "kzM4SzYfPlRePvFnjnt6ehh1dXVv2mw2nlar/byoqMj8wgBwHBchCJIZEhJSeu1yHVi7vtu02t8+\n",
       "NykQ7BMWoOUMhXQsXLv5IQAwSJJEEASxcDicoeTk5DtCoZBy9XX69Gnv3t7ebJIky3EcH3guAKlU\n",
       "GoGiaOKWLVsOvhs7/9XXPMde3/IyIFbMnaPDuD5AUdQuOf2XlD0npTExMWYAgNbWVpZcLg8xGAzB\n",
       "JEnSvby82tPT052LaTQatLy8fBtJkt/s3Lnz5h8CwHFcRKPRNu/YsePAjh072KTs0IGCxRg8RgUB\n",
       "TGpSx6cmHgMAfNqN6Xa1GvJ/D35gYAAViURkcXHxUrPZHDRv3rxv4uLiDI7xPXv2bLdYLBUFBQWD\n",
       "jj7M8ZGbm8tkMpmSrKysQiaTScXGxtpqL7dManT6tcu5mgEWWJyOhicozpk+c3NsbKzNFcBbWWEf\n",
       "1Td9/upA30i3ZJv0h8bGxiSFQmFcuHDhOACAWCy+0d3dvX3lypUtzc3N9t8AiIuLk4SEhByLiooy\n",
       "AgAcO3ZsNlPgH3Cttb35JZo+bCYXIQAA9MDiUW7sWS1KN687w6Mera2twa2trfMvXboUOS28Pyb1\n",
       "U08McRtf/sXBSmt5cc35pqamVQqFwhoZGallMpnU/fv3e7RaberVq1d/AABAn1IfQqfTNRs3blQB\n",
       "AFy+fJk7Nja2XCKRnD3dNSorusPq6NfTPR+gPiEEoLRFXO1tS2+zavv27ReftjNttyr0S1/j0rUP\n",
       "PEJQwNwQYGgAACQSyXmNRhMtk8lYAAApKSlKDMP0+fn5QU4ACIKkxMfH1zjYuHnz5uspKSlOfdX7\n",
       "u68fvOePcCzKQR4YVCgATGfa/F3pnzaHWOAXSDyaMCqH2+r8VXErP3D+snXr1tV2dXW94dATExOr\n",
       "6XT6JgAAVCKRcDEMM4WHh9sAAHJyUqNu//wDymKx7AAAVVVVPiaTKXxByrYMvBsxEMSTwPXhuL+8\n",
       "e/fu9fv371+flvbemogYNz+TnsBOFEwMFO8/KzEYDKFVVVX+AAChoaGT7u7ud48ePRro0DEMs+bl\n",
       "5bFRNpud4O3tfdGBzq5uy/5wTUPM/q2zC9atmbVqeHg4Pi0t7WxGRoZFH5rw76I7LI8HqHfwPL7d\n",
       "rfVagzw1NfW81t4ePUfsP/OrnWZ6fPSuUqFQSEkkkrOjo6OvuQR5q0ajiXLoPj4+lzgcTjwKACLH\n",
       "9SqXy2kzhBO8haGo+UA2wZW+p880DxeveGt9aHx9fT09ctlq3sC0NT9e6xsbjuZblSxl7wKtVotM\n",
       "m6PnXvlmZJBtX91CEMQsxyJsNlteXl4udugIghAajQYFAEhPTx9AEGQOimGY8y4oLt63KlJkdB4t\n",
       "P282Z/c/dPrDH04ktJ9P2tfWXP3+2o1vHzunEp6Xq0lsGt08KzUrcSGTQ3n3XeefLCs5UqnT6Rap\n",
       "VCoEACA7O/snvV4f5gJooLa2NsihoygKKEVRzquTND2OCpttGXdG1tOxwOlgzdvE9v30rV+m3W5I\n",
       "2jfJNQmLH85QUUzPNTwvkAx0+vVGhq2/VV9fT+dyuZ01NTXOXQOA3fGxevXq2waDYY5r8KIoij5b\n",
       "jzB5Cz2oKdOo0erOm+1tVuVtBMZXElNMRJR1fvvjx9iPLQ/RjpuB0Xu/Vp7YmH1864YNG3oNBkPw\n",
       "VD7mzp1rJUnSzZUBmqsBggAgGFC/n6jVA+3WoN3tu1Gg39cg2tEx1Cg3CIJHsclxnl2HRorMN8Z0\n",
       "fRW+vr7GJ36Q56Z5h9BIknzGAMJWtvdQYs0EZe3/FSwqk5tpXEMb1JoYD+n8xRdQJl/fMPEgzKhS\n",
       "L40KCD7lGzg92qIyovpb3y/msT2un2psvFpWVvYyl8vtc1nDSXFXV5c7iqLOtEyS5LNBAADfWeKm\n",
       "Ly4uuvR1++sfv51/P5sfnHm2/Iy+mBmwsaHJbpt+Q0jHSS7TZ/PSNVkNJ/973OxtemD1s91CPb12\n",
       "h9MfvZsk5meo1eqo5ORkxTNWn7HR1tY2l8PhOAsUiqIolCRJcETtv/61qzNySYK5trZ2TCgUUiwW\n",
       "S1FSUhLR+bA/kAzwXcAbHa/cFhrTXrJ/v+7IkSPu3Je4Xm5eboJv2wba5QbO5fQwxhsP679Y+nFO\n",
       "jgAAoKSkJILFYjnBGI1G0YYNGwYBnqRoiqIQlKKojurq6gUAAAKBgKQoiuGYkJWVpTCZTOKmI1Xd\n",
       "HwnDcm+cOnOMw+H0FxYWbqpvqv/r9EV+bky+O+/QoUPiqJRt9JphTLFHbKBCR87tWL9EPN9oNIZn\n",
       "ZWUpXHaMCQQCEgCgsrIyEgBuoGq1+qpOp4t2GPH5/BvFxcVLHXpgYGDD8ePH/56Xl2cCAMjMzOxP\n",
       "S0s7pWfow4RCbz/fAF9RT0+P9yeffHJySSqev+9nxLD1FaAlTR8vlJ8vxxzsFhUVLRMIBB0OvwaD\n",
       "YRlFUdfQkpISK0EQ9J6eHgYAQEZGxl2z2Rw0MjJCBwBITk5+xOVyfzpw4ECSw5lQKKQIbxtJm4EN\n",
       "8eZ7jPz0oNv+dK5FG/jq54eH+IFr/S1KabBy0UerAvI+++wzD4vFEpCWljYEACCTyVh2ux3FcXwS\n",
       "BQCw2WxVdXV1bzrQRURE1FVVVTn1zMzM/pkzZ35/9OjRd0pLS19RqVQIy4/tCwDgOcPTQvFQEQBA\n",
       "aWnpK0ERK2LbyVllN341GUJ4YDu8zD5bKyur7O+85tx9Z2fnO1ar9QjA04KkpaVFs2LFir8olcq7\n",
       "YWFhJpFINNnX16drbGyMjY6Ovg0AIBaLjcuXL5d3d3d7XbhwIW704b3F479MeD1qVfJ5Og/bvb4R\n",
       "LwaDMZabm9uwflNa/z/3HOIv5NsDEK7XS7FeevXPvYNLvm5S/GglCK5KpZorlUobXE8g5ObmMqVS\n",
       "6UG1Wu1BURSHoijOiRMnwgoLC7coFAqBo+9Fm0KhEKStmvvto3TeucFN7pVJYbytarXaQyqVHsRx\n",
       "3N15TF1BuBaljr4rV66wOzo63mAymXdzcnKuwwtIUVHRMqvVGkgQxMV7NXvyJijGvcNXB/7z5Zdf\n",
       "bicI4gSO40NTAgD4bVnuODIAT2pElUq1FEEQO4fD6QsPD++fqixHEATj8/ntjoCrqKhwS0hIsJWV\n",
       "leURBHEOx3G563pT3tn5+flBDAbjg6CgoMMpKSlK17GhoSFMJpMFPk04DJIkEQzDzCwW6+5UD5Oa\n",
       "mhrfO3fufECS5GHXnf8pAAAAHMfdURTdimGYPjExsTo0NHTyj2ynEplMxurs7HyHIAiKJMlSHMct\n",
       "U9k9N2vl5+cH0en0TRiGWX18fC65vnh+LxqNBq2oqFhgMpmi7XY7arVaj+zdu/fxn/l/4bSZl5fH\n",
       "5nK5CQAQMtXznCRJePpEbwOAZhzHX4ix/wHzzC/tu64gcwAAAABJRU5ErkJggg=='\n",
       "       style='height:15px; border-radius:12px; display: inline-block; float: left'></img>\n",
       "  \n",
       "\n",
       "\n",
       "</div>\n"
      ]
     },
     "metadata": {},
     "output_type": "display_data"
    }
   ],
   "source": [
    "# Load the necessary backend\n",
    "hv.extension('matplotlib')"
   ]
  },
  {
   "cell_type": "code",
   "execution_count": 3,
   "metadata": {
    "metadata": {}
   },
   "outputs": [
    {
     "data": {
      "text/html": [
       "<div>\n",
       "<style scoped>\n",
       "    .dataframe tbody tr th:only-of-type {\n",
       "        vertical-align: middle;\n",
       "    }\n",
       "\n",
       "    .dataframe tbody tr th {\n",
       "        vertical-align: top;\n",
       "    }\n",
       "\n",
       "    .dataframe thead th {\n",
       "        text-align: right;\n",
       "    }\n",
       "</style>\n",
       "<table border=\"1\" class=\"dataframe\">\n",
       "  <thead>\n",
       "    <tr style=\"text-align: right;\">\n",
       "      <th></th>\n",
       "      <th>price_change_percentage_24h</th>\n",
       "      <th>price_change_percentage_7d</th>\n",
       "      <th>price_change_percentage_14d</th>\n",
       "      <th>price_change_percentage_30d</th>\n",
       "      <th>price_change_percentage_60d</th>\n",
       "      <th>price_change_percentage_200d</th>\n",
       "      <th>price_change_percentage_1y</th>\n",
       "    </tr>\n",
       "    <tr>\n",
       "      <th>coin_id</th>\n",
       "      <th></th>\n",
       "      <th></th>\n",
       "      <th></th>\n",
       "      <th></th>\n",
       "      <th></th>\n",
       "      <th></th>\n",
       "      <th></th>\n",
       "    </tr>\n",
       "  </thead>\n",
       "  <tbody>\n",
       "    <tr>\n",
       "      <th>bitcoin</th>\n",
       "      <td>1.08388</td>\n",
       "      <td>7.60278</td>\n",
       "      <td>6.57509</td>\n",
       "      <td>7.67258</td>\n",
       "      <td>-3.25185</td>\n",
       "      <td>83.51840</td>\n",
       "      <td>37.51761</td>\n",
       "    </tr>\n",
       "    <tr>\n",
       "      <th>ethereum</th>\n",
       "      <td>0.22392</td>\n",
       "      <td>10.38134</td>\n",
       "      <td>4.80849</td>\n",
       "      <td>0.13169</td>\n",
       "      <td>-12.88890</td>\n",
       "      <td>186.77418</td>\n",
       "      <td>101.96023</td>\n",
       "    </tr>\n",
       "    <tr>\n",
       "      <th>tether</th>\n",
       "      <td>-0.21173</td>\n",
       "      <td>0.04935</td>\n",
       "      <td>0.00640</td>\n",
       "      <td>-0.04237</td>\n",
       "      <td>0.28037</td>\n",
       "      <td>-0.00542</td>\n",
       "      <td>0.01954</td>\n",
       "    </tr>\n",
       "    <tr>\n",
       "      <th>ripple</th>\n",
       "      <td>-0.37819</td>\n",
       "      <td>-0.60926</td>\n",
       "      <td>2.24984</td>\n",
       "      <td>0.23455</td>\n",
       "      <td>-17.55245</td>\n",
       "      <td>39.53888</td>\n",
       "      <td>-16.60193</td>\n",
       "    </tr>\n",
       "    <tr>\n",
       "      <th>bitcoin-cash</th>\n",
       "      <td>2.90585</td>\n",
       "      <td>17.09717</td>\n",
       "      <td>14.75334</td>\n",
       "      <td>15.74903</td>\n",
       "      <td>-13.71793</td>\n",
       "      <td>21.66042</td>\n",
       "      <td>14.49384</td>\n",
       "    </tr>\n",
       "  </tbody>\n",
       "</table>\n",
       "</div>"
      ],
      "text/plain": [
       "              price_change_percentage_24h  price_change_percentage_7d  \\\n",
       "coin_id                                                                 \n",
       "bitcoin                           1.08388                     7.60278   \n",
       "ethereum                          0.22392                    10.38134   \n",
       "tether                           -0.21173                     0.04935   \n",
       "ripple                           -0.37819                    -0.60926   \n",
       "bitcoin-cash                      2.90585                    17.09717   \n",
       "\n",
       "              price_change_percentage_14d  price_change_percentage_30d  \\\n",
       "coin_id                                                                  \n",
       "bitcoin                           6.57509                      7.67258   \n",
       "ethereum                          4.80849                      0.13169   \n",
       "tether                            0.00640                     -0.04237   \n",
       "ripple                            2.24984                      0.23455   \n",
       "bitcoin-cash                     14.75334                     15.74903   \n",
       "\n",
       "              price_change_percentage_60d  price_change_percentage_200d  \\\n",
       "coin_id                                                                   \n",
       "bitcoin                          -3.25185                      83.51840   \n",
       "ethereum                        -12.88890                     186.77418   \n",
       "tether                            0.28037                      -0.00542   \n",
       "ripple                          -17.55245                      39.53888   \n",
       "bitcoin-cash                    -13.71793                      21.66042   \n",
       "\n",
       "              price_change_percentage_1y  \n",
       "coin_id                                   \n",
       "bitcoin                         37.51761  \n",
       "ethereum                       101.96023  \n",
       "tether                           0.01954  \n",
       "ripple                         -16.60193  \n",
       "bitcoin-cash                    14.49384  "
      ]
     },
     "execution_count": 3,
     "metadata": {},
     "output_type": "execute_result"
    }
   ],
   "source": [
    "# Load the data into a Pandas DataFrame\n",
    "df_market_data = pd.read_csv(\n",
    "    \"Resources/crypto_market_data.csv\",\n",
    "    index_col=\"coin_id\")\n",
    "\n",
    "# Display sample data\n",
    "df_market_data.head(5)"
   ]
  },
  {
   "cell_type": "code",
   "execution_count": 4,
   "metadata": {
    "metadata": {}
   },
   "outputs": [
    {
     "data": {
      "text/html": [
       "<div>\n",
       "<style scoped>\n",
       "    .dataframe tbody tr th:only-of-type {\n",
       "        vertical-align: middle;\n",
       "    }\n",
       "\n",
       "    .dataframe tbody tr th {\n",
       "        vertical-align: top;\n",
       "    }\n",
       "\n",
       "    .dataframe thead th {\n",
       "        text-align: right;\n",
       "    }\n",
       "</style>\n",
       "<table border=\"1\" class=\"dataframe\">\n",
       "  <thead>\n",
       "    <tr style=\"text-align: right;\">\n",
       "      <th></th>\n",
       "      <th>price_change_percentage_24h</th>\n",
       "      <th>price_change_percentage_7d</th>\n",
       "      <th>price_change_percentage_14d</th>\n",
       "      <th>price_change_percentage_30d</th>\n",
       "      <th>price_change_percentage_60d</th>\n",
       "      <th>price_change_percentage_200d</th>\n",
       "      <th>price_change_percentage_1y</th>\n",
       "    </tr>\n",
       "  </thead>\n",
       "  <tbody>\n",
       "    <tr>\n",
       "      <th>count</th>\n",
       "      <td>41.000000</td>\n",
       "      <td>41.000000</td>\n",
       "      <td>41.000000</td>\n",
       "      <td>41.000000</td>\n",
       "      <td>41.000000</td>\n",
       "      <td>41.000000</td>\n",
       "      <td>41.000000</td>\n",
       "    </tr>\n",
       "    <tr>\n",
       "      <th>mean</th>\n",
       "      <td>-0.269686</td>\n",
       "      <td>4.497147</td>\n",
       "      <td>0.185787</td>\n",
       "      <td>1.545693</td>\n",
       "      <td>-0.094119</td>\n",
       "      <td>236.537432</td>\n",
       "      <td>347.667956</td>\n",
       "    </tr>\n",
       "    <tr>\n",
       "      <th>std</th>\n",
       "      <td>2.694793</td>\n",
       "      <td>6.375218</td>\n",
       "      <td>8.376939</td>\n",
       "      <td>26.344218</td>\n",
       "      <td>47.365803</td>\n",
       "      <td>435.225304</td>\n",
       "      <td>1247.842884</td>\n",
       "    </tr>\n",
       "    <tr>\n",
       "      <th>min</th>\n",
       "      <td>-13.527860</td>\n",
       "      <td>-6.094560</td>\n",
       "      <td>-18.158900</td>\n",
       "      <td>-34.705480</td>\n",
       "      <td>-44.822480</td>\n",
       "      <td>-0.392100</td>\n",
       "      <td>-17.567530</td>\n",
       "    </tr>\n",
       "    <tr>\n",
       "      <th>25%</th>\n",
       "      <td>-0.608970</td>\n",
       "      <td>0.047260</td>\n",
       "      <td>-5.026620</td>\n",
       "      <td>-10.438470</td>\n",
       "      <td>-25.907990</td>\n",
       "      <td>21.660420</td>\n",
       "      <td>0.406170</td>\n",
       "    </tr>\n",
       "    <tr>\n",
       "      <th>50%</th>\n",
       "      <td>-0.063410</td>\n",
       "      <td>3.296410</td>\n",
       "      <td>0.109740</td>\n",
       "      <td>-0.042370</td>\n",
       "      <td>-7.544550</td>\n",
       "      <td>83.905200</td>\n",
       "      <td>69.691950</td>\n",
       "    </tr>\n",
       "    <tr>\n",
       "      <th>75%</th>\n",
       "      <td>0.612090</td>\n",
       "      <td>7.602780</td>\n",
       "      <td>5.510740</td>\n",
       "      <td>4.578130</td>\n",
       "      <td>0.657260</td>\n",
       "      <td>216.177610</td>\n",
       "      <td>168.372510</td>\n",
       "    </tr>\n",
       "    <tr>\n",
       "      <th>max</th>\n",
       "      <td>4.840330</td>\n",
       "      <td>20.694590</td>\n",
       "      <td>24.239190</td>\n",
       "      <td>140.795700</td>\n",
       "      <td>223.064370</td>\n",
       "      <td>2227.927820</td>\n",
       "      <td>7852.089700</td>\n",
       "    </tr>\n",
       "  </tbody>\n",
       "</table>\n",
       "</div>"
      ],
      "text/plain": [
       "       price_change_percentage_24h  price_change_percentage_7d  \\\n",
       "count                    41.000000                   41.000000   \n",
       "mean                     -0.269686                    4.497147   \n",
       "std                       2.694793                    6.375218   \n",
       "min                     -13.527860                   -6.094560   \n",
       "25%                      -0.608970                    0.047260   \n",
       "50%                      -0.063410                    3.296410   \n",
       "75%                       0.612090                    7.602780   \n",
       "max                       4.840330                   20.694590   \n",
       "\n",
       "       price_change_percentage_14d  price_change_percentage_30d  \\\n",
       "count                    41.000000                    41.000000   \n",
       "mean                      0.185787                     1.545693   \n",
       "std                       8.376939                    26.344218   \n",
       "min                     -18.158900                   -34.705480   \n",
       "25%                      -5.026620                   -10.438470   \n",
       "50%                       0.109740                    -0.042370   \n",
       "75%                       5.510740                     4.578130   \n",
       "max                      24.239190                   140.795700   \n",
       "\n",
       "       price_change_percentage_60d  price_change_percentage_200d  \\\n",
       "count                    41.000000                     41.000000   \n",
       "mean                     -0.094119                    236.537432   \n",
       "std                      47.365803                    435.225304   \n",
       "min                     -44.822480                     -0.392100   \n",
       "25%                     -25.907990                     21.660420   \n",
       "50%                      -7.544550                     83.905200   \n",
       "75%                       0.657260                    216.177610   \n",
       "max                     223.064370                   2227.927820   \n",
       "\n",
       "       price_change_percentage_1y  \n",
       "count                   41.000000  \n",
       "mean                   347.667956  \n",
       "std                   1247.842884  \n",
       "min                    -17.567530  \n",
       "25%                      0.406170  \n",
       "50%                     69.691950  \n",
       "75%                    168.372510  \n",
       "max                   7852.089700  "
      ]
     },
     "execution_count": 4,
     "metadata": {},
     "output_type": "execute_result"
    }
   ],
   "source": [
    "# Generate summary statistics\n",
    "df_market_data.describe()"
   ]
  },
  {
   "cell_type": "code",
   "execution_count": 5,
   "metadata": {
    "metadata": {}
   },
   "outputs": [
    {
     "data": {
      "text/html": [
       "<img src='data:image/png;base64,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' style='max-width:100%; margin: auto; display: block; '/>"
      ],
      "text/plain": [
       ":NdOverlay   [Variable]\n",
       "   :Curve   [coin_id]   (value)"
      ]
     },
     "execution_count": 5,
     "metadata": {
      "application/vnd.holoviews_exec.v0+json": {}
     },
     "output_type": "execute_result"
    }
   ],
   "source": [
    "# Plot your data to see what's in your DataFrame\n",
    "df_market_data.hvplot.line(\n",
    "    width=800,\n",
    "    height=400,\n",
    "    rot=90\n",
    ").opts(backend='matplotlib')"
   ]
  },
  {
   "attachments": {},
   "cell_type": "markdown",
   "metadata": {},
   "source": [
    "---"
   ]
  },
  {
   "attachments": {},
   "cell_type": "markdown",
   "metadata": {},
   "source": [
    "### Prepare the Data"
   ]
  },
  {
   "cell_type": "code",
   "execution_count": 6,
   "metadata": {
    "metadata": {}
   },
   "outputs": [
    {
     "data": {
      "text/plain": [
       "array([[ 0.50852937,  0.49319307,  0.77220043,  0.23545963, -0.0674951 ,\n",
       "        -0.35595348, -0.25163688],\n",
       "       [ 0.18544589,  0.93444504,  0.55869212, -0.05434093, -0.27348273,\n",
       "        -0.11575947, -0.19935211],\n",
       "       [ 0.02177396, -0.70633685, -0.02168042, -0.06103015,  0.00800452,\n",
       "        -0.55024692, -0.28206051],\n",
       "       [-0.04076438, -0.81092807,  0.24945797, -0.05038797, -0.37316402,\n",
       "        -0.45825882, -0.29554614],\n",
       "       [ 1.19303608,  2.00095907,  1.76061001,  0.54584206, -0.29120287,\n",
       "        -0.49984776, -0.27031695]])"
      ]
     },
     "execution_count": 6,
     "metadata": {},
     "output_type": "execute_result"
    }
   ],
   "source": [
    "# Use the `StandardScaler()` module from scikit-learn to normalize the data from the CSV file\n",
    "df_market_data.dtypes\n",
    "\n",
    "data_scaled = StandardScaler().fit_transform(df_market_data)\n",
    "\n",
    "data_scaled[0:5]"
   ]
  },
  {
   "cell_type": "code",
   "execution_count": 7,
   "metadata": {
    "metadata": {}
   },
   "outputs": [
    {
     "data": {
      "text/html": [
       "<div>\n",
       "<style scoped>\n",
       "    .dataframe tbody tr th:only-of-type {\n",
       "        vertical-align: middle;\n",
       "    }\n",
       "\n",
       "    .dataframe tbody tr th {\n",
       "        vertical-align: top;\n",
       "    }\n",
       "\n",
       "    .dataframe thead th {\n",
       "        text-align: right;\n",
       "    }\n",
       "</style>\n",
       "<table border=\"1\" class=\"dataframe\">\n",
       "  <thead>\n",
       "    <tr style=\"text-align: right;\">\n",
       "      <th></th>\n",
       "      <th>price_change_percentage_24h</th>\n",
       "      <th>price_change_percentage_7d</th>\n",
       "      <th>price_change_percentage_14d</th>\n",
       "      <th>price_change_percentage_30d</th>\n",
       "      <th>price_change_percentage_60d</th>\n",
       "      <th>price_change_percentage_200d</th>\n",
       "      <th>price_change_percentage_1y</th>\n",
       "    </tr>\n",
       "    <tr>\n",
       "      <th>coin_id</th>\n",
       "      <th></th>\n",
       "      <th></th>\n",
       "      <th></th>\n",
       "      <th></th>\n",
       "      <th></th>\n",
       "      <th></th>\n",
       "      <th></th>\n",
       "    </tr>\n",
       "  </thead>\n",
       "  <tbody>\n",
       "    <tr>\n",
       "      <th>bitcoin</th>\n",
       "      <td>0.508529</td>\n",
       "      <td>0.493193</td>\n",
       "      <td>0.772200</td>\n",
       "      <td>0.235460</td>\n",
       "      <td>-0.067495</td>\n",
       "      <td>-0.355953</td>\n",
       "      <td>-0.251637</td>\n",
       "    </tr>\n",
       "    <tr>\n",
       "      <th>ethereum</th>\n",
       "      <td>0.185446</td>\n",
       "      <td>0.934445</td>\n",
       "      <td>0.558692</td>\n",
       "      <td>-0.054341</td>\n",
       "      <td>-0.273483</td>\n",
       "      <td>-0.115759</td>\n",
       "      <td>-0.199352</td>\n",
       "    </tr>\n",
       "    <tr>\n",
       "      <th>tether</th>\n",
       "      <td>0.021774</td>\n",
       "      <td>-0.706337</td>\n",
       "      <td>-0.021680</td>\n",
       "      <td>-0.061030</td>\n",
       "      <td>0.008005</td>\n",
       "      <td>-0.550247</td>\n",
       "      <td>-0.282061</td>\n",
       "    </tr>\n",
       "    <tr>\n",
       "      <th>ripple</th>\n",
       "      <td>-0.040764</td>\n",
       "      <td>-0.810928</td>\n",
       "      <td>0.249458</td>\n",
       "      <td>-0.050388</td>\n",
       "      <td>-0.373164</td>\n",
       "      <td>-0.458259</td>\n",
       "      <td>-0.295546</td>\n",
       "    </tr>\n",
       "    <tr>\n",
       "      <th>bitcoin-cash</th>\n",
       "      <td>1.193036</td>\n",
       "      <td>2.000959</td>\n",
       "      <td>1.760610</td>\n",
       "      <td>0.545842</td>\n",
       "      <td>-0.291203</td>\n",
       "      <td>-0.499848</td>\n",
       "      <td>-0.270317</td>\n",
       "    </tr>\n",
       "  </tbody>\n",
       "</table>\n",
       "</div>"
      ],
      "text/plain": [
       "              price_change_percentage_24h  price_change_percentage_7d  \\\n",
       "coin_id                                                                 \n",
       "bitcoin                          0.508529                    0.493193   \n",
       "ethereum                         0.185446                    0.934445   \n",
       "tether                           0.021774                   -0.706337   \n",
       "ripple                          -0.040764                   -0.810928   \n",
       "bitcoin-cash                     1.193036                    2.000959   \n",
       "\n",
       "              price_change_percentage_14d  price_change_percentage_30d  \\\n",
       "coin_id                                                                  \n",
       "bitcoin                          0.772200                     0.235460   \n",
       "ethereum                         0.558692                    -0.054341   \n",
       "tether                          -0.021680                    -0.061030   \n",
       "ripple                           0.249458                    -0.050388   \n",
       "bitcoin-cash                     1.760610                     0.545842   \n",
       "\n",
       "              price_change_percentage_60d  price_change_percentage_200d  \\\n",
       "coin_id                                                                   \n",
       "bitcoin                         -0.067495                     -0.355953   \n",
       "ethereum                        -0.273483                     -0.115759   \n",
       "tether                           0.008005                     -0.550247   \n",
       "ripple                          -0.373164                     -0.458259   \n",
       "bitcoin-cash                    -0.291203                     -0.499848   \n",
       "\n",
       "              price_change_percentage_1y  \n",
       "coin_id                                   \n",
       "bitcoin                        -0.251637  \n",
       "ethereum                       -0.199352  \n",
       "tether                         -0.282061  \n",
       "ripple                         -0.295546  \n",
       "bitcoin-cash                   -0.270317  "
      ]
     },
     "execution_count": 7,
     "metadata": {},
     "output_type": "execute_result"
    }
   ],
   "source": [
    "# Create a DataFrame with the scaled data\n",
    "df_transformed = pd.DataFrame(data_scaled, \n",
    "                              columns=[\"price_change_percentage_24h\",\"price_change_percentage_7d\", \"price_change_percentage_14d\", \"price_change_percentage_30d\",\"price_change_percentage_60d\",\"price_change_percentage_200d\", \"price_change_percentage_1y\"])\n",
    "df_transformed \n",
    "\n",
    "# Copy the crypto names from the original data\n",
    "df_transformed[\"coin_id\"] = df_market_data.index\n",
    "\n",
    "# Set the coinid column as index\n",
    "df_transformed = df_transformed.set_index('coin_id')\n",
    "\n",
    "# Display sample data\n",
    "df_transformed.head()"
   ]
  },
  {
   "attachments": {},
   "cell_type": "markdown",
   "metadata": {},
   "source": [
    "---"
   ]
  },
  {
   "attachments": {},
   "cell_type": "markdown",
   "metadata": {},
   "source": [
    "### Find the Best Value for k Using the Original Data."
   ]
  },
  {
   "cell_type": "code",
   "execution_count": 8,
   "metadata": {
    "metadata": {}
   },
   "outputs": [],
   "source": [
    "# Create a list with the number of k-values from 1 to 11\n",
    "k = list(range(1,11))"
   ]
  },
  {
   "cell_type": "code",
   "execution_count": 9,
   "metadata": {
    "metadata": {}
   },
   "outputs": [
    {
     "name": "stderr",
     "output_type": "stream",
     "text": [
      "c:\\Users\\Beyonka\\anaconda3\\envs\\dev\\lib\\site-packages\\sklearn\\cluster\\_kmeans.py:1436: UserWarning: KMeans is known to have a memory leak on Windows with MKL, when there are less chunks than available threads. You can avoid it by setting the environment variable OMP_NUM_THREADS=1.\n",
      "  warnings.warn(\n",
      "c:\\Users\\Beyonka\\anaconda3\\envs\\dev\\lib\\site-packages\\sklearn\\cluster\\_kmeans.py:1436: UserWarning: KMeans is known to have a memory leak on Windows with MKL, when there are less chunks than available threads. You can avoid it by setting the environment variable OMP_NUM_THREADS=1.\n",
      "  warnings.warn(\n",
      "c:\\Users\\Beyonka\\anaconda3\\envs\\dev\\lib\\site-packages\\sklearn\\cluster\\_kmeans.py:1436: UserWarning: KMeans is known to have a memory leak on Windows with MKL, when there are less chunks than available threads. You can avoid it by setting the environment variable OMP_NUM_THREADS=1.\n",
      "  warnings.warn(\n",
      "c:\\Users\\Beyonka\\anaconda3\\envs\\dev\\lib\\site-packages\\sklearn\\cluster\\_kmeans.py:1436: UserWarning: KMeans is known to have a memory leak on Windows with MKL, when there are less chunks than available threads. You can avoid it by setting the environment variable OMP_NUM_THREADS=1.\n",
      "  warnings.warn(\n",
      "c:\\Users\\Beyonka\\anaconda3\\envs\\dev\\lib\\site-packages\\sklearn\\cluster\\_kmeans.py:1436: UserWarning: KMeans is known to have a memory leak on Windows with MKL, when there are less chunks than available threads. You can avoid it by setting the environment variable OMP_NUM_THREADS=1.\n",
      "  warnings.warn(\n",
      "c:\\Users\\Beyonka\\anaconda3\\envs\\dev\\lib\\site-packages\\sklearn\\cluster\\_kmeans.py:1436: UserWarning: KMeans is known to have a memory leak on Windows with MKL, when there are less chunks than available threads. You can avoid it by setting the environment variable OMP_NUM_THREADS=1.\n",
      "  warnings.warn(\n",
      "c:\\Users\\Beyonka\\anaconda3\\envs\\dev\\lib\\site-packages\\sklearn\\cluster\\_kmeans.py:1436: UserWarning: KMeans is known to have a memory leak on Windows with MKL, when there are less chunks than available threads. You can avoid it by setting the environment variable OMP_NUM_THREADS=1.\n",
      "  warnings.warn(\n",
      "c:\\Users\\Beyonka\\anaconda3\\envs\\dev\\lib\\site-packages\\sklearn\\cluster\\_kmeans.py:1436: UserWarning: KMeans is known to have a memory leak on Windows with MKL, when there are less chunks than available threads. You can avoid it by setting the environment variable OMP_NUM_THREADS=1.\n",
      "  warnings.warn(\n",
      "c:\\Users\\Beyonka\\anaconda3\\envs\\dev\\lib\\site-packages\\sklearn\\cluster\\_kmeans.py:1436: UserWarning: KMeans is known to have a memory leak on Windows with MKL, when there are less chunks than available threads. You can avoid it by setting the environment variable OMP_NUM_THREADS=1.\n",
      "  warnings.warn(\n",
      "c:\\Users\\Beyonka\\anaconda3\\envs\\dev\\lib\\site-packages\\sklearn\\cluster\\_kmeans.py:1436: UserWarning: KMeans is known to have a memory leak on Windows with MKL, when there are less chunks than available threads. You can avoid it by setting the environment variable OMP_NUM_THREADS=1.\n",
      "  warnings.warn(\n"
     ]
    }
   ],
   "source": [
    "# Create an empty list to store the inertia values\n",
    "inertia = []\n",
    "\n",
    "# Create a for loop to compute the inertia with each possible value of k\n",
    "# Inside the loop:\n",
    "# 1. Create a KMeans model using the loop counter for the n_clusters\n",
    "# 2. Fit the model to the data using `df_market_data_scaled`\n",
    "# 3. Append the model.inertia_ to the inertia list\n",
    "\n",
    "for i in k:\n",
    "    k_model = KMeans(n_clusters=i, n_init=10)\n",
    "    k_model.fit(df_transformed)\n",
    "    inertia.append(k_model.inertia_)"
   ]
  },
  {
   "cell_type": "code",
   "execution_count": 10,
   "metadata": {
    "metadata": {}
   },
   "outputs": [
    {
     "data": {
      "text/html": [
       "<div>\n",
       "<style scoped>\n",
       "    .dataframe tbody tr th:only-of-type {\n",
       "        vertical-align: middle;\n",
       "    }\n",
       "\n",
       "    .dataframe tbody tr th {\n",
       "        vertical-align: top;\n",
       "    }\n",
       "\n",
       "    .dataframe thead th {\n",
       "        text-align: right;\n",
       "    }\n",
       "</style>\n",
       "<table border=\"1\" class=\"dataframe\">\n",
       "  <thead>\n",
       "    <tr style=\"text-align: right;\">\n",
       "      <th></th>\n",
       "      <th>k</th>\n",
       "      <th>inertia</th>\n",
       "    </tr>\n",
       "  </thead>\n",
       "  <tbody>\n",
       "    <tr>\n",
       "      <th>0</th>\n",
       "      <td>1</td>\n",
       "      <td>287.000000</td>\n",
       "    </tr>\n",
       "    <tr>\n",
       "      <th>1</th>\n",
       "      <td>2</td>\n",
       "      <td>198.571818</td>\n",
       "    </tr>\n",
       "    <tr>\n",
       "      <th>2</th>\n",
       "      <td>3</td>\n",
       "      <td>123.190482</td>\n",
       "    </tr>\n",
       "    <tr>\n",
       "      <th>3</th>\n",
       "      <td>4</td>\n",
       "      <td>79.022435</td>\n",
       "    </tr>\n",
       "    <tr>\n",
       "      <th>4</th>\n",
       "      <td>5</td>\n",
       "      <td>64.127997</td>\n",
       "    </tr>\n",
       "    <tr>\n",
       "      <th>5</th>\n",
       "      <td>6</td>\n",
       "      <td>52.829819</td>\n",
       "    </tr>\n",
       "    <tr>\n",
       "      <th>6</th>\n",
       "      <td>7</td>\n",
       "      <td>45.231833</td>\n",
       "    </tr>\n",
       "    <tr>\n",
       "      <th>7</th>\n",
       "      <td>8</td>\n",
       "      <td>37.518471</td>\n",
       "    </tr>\n",
       "    <tr>\n",
       "      <th>8</th>\n",
       "      <td>9</td>\n",
       "      <td>32.482726</td>\n",
       "    </tr>\n",
       "    <tr>\n",
       "      <th>9</th>\n",
       "      <td>10</td>\n",
       "      <td>27.986024</td>\n",
       "    </tr>\n",
       "  </tbody>\n",
       "</table>\n",
       "</div>"
      ],
      "text/plain": [
       "    k     inertia\n",
       "0   1  287.000000\n",
       "1   2  198.571818\n",
       "2   3  123.190482\n",
       "3   4   79.022435\n",
       "4   5   64.127997\n",
       "5   6   52.829819\n",
       "6   7   45.231833\n",
       "7   8   37.518471\n",
       "8   9   32.482726\n",
       "9  10   27.986024"
      ]
     },
     "execution_count": 10,
     "metadata": {},
     "output_type": "execute_result"
    }
   ],
   "source": [
    "# Create a dictionary with the data to plot the Elbow curve\n",
    "elbow_data = {\"k\": k, \"inertia\": inertia}\n",
    "\n",
    "# Create a DataFrame with the data to plot the Elbow curve\n",
    "df_elbow = pd.DataFrame(elbow_data)\n",
    "df_elbow"
   ]
  },
  {
   "cell_type": "code",
   "execution_count": 11,
   "metadata": {
    "metadata": {}
   },
   "outputs": [
    {
     "data": {
      "text/html": [
       "<img src='data:image/png;base64,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' style='max-width:100%; margin: auto; display: block; '/>"
      ],
      "text/plain": [
       ":Curve   [k]   (inertia)"
      ]
     },
     "execution_count": 11,
     "metadata": {
      "application/vnd.holoviews_exec.v0+json": {}
     },
     "output_type": "execute_result"
    }
   ],
   "source": [
    "# Plot a line chart with all the inertia values computed with \n",
    "# the different values of k to visually identify the optimal value for k.\n",
    "\n",
    "elbow_1 = df_elbow.hvplot.line(\n",
    "    x=\"k\",\n",
    "    y=\"inertia\",\n",
    "    title=\"Elbow Curve\",\n",
    "    xticks=k)\n",
    "\n",
    "elbow_1\n"
   ]
  },
  {
   "attachments": {},
   "cell_type": "markdown",
   "metadata": {},
   "source": [
    "#### Answer the following question: \n",
    "\n",
    "**Question:** What is the best value for `k`?\n",
    "\n",
    "**Answer:** The best value for k is 4."
   ]
  },
  {
   "attachments": {},
   "cell_type": "markdown",
   "metadata": {},
   "source": [
    "---"
   ]
  },
  {
   "attachments": {},
   "cell_type": "markdown",
   "metadata": {},
   "source": [
    "### Cluster Cryptocurrencies with K-means Using the Original Data"
   ]
  },
  {
   "cell_type": "code",
   "execution_count": 12,
   "metadata": {
    "metadata": {}
   },
   "outputs": [],
   "source": [
    "# Initialize the K-Means model using the best value for k\n",
    "model = KMeans(n_clusters=4, n_init=10)"
   ]
  },
  {
   "cell_type": "code",
   "execution_count": 13,
   "metadata": {
    "metadata": {}
   },
   "outputs": [
    {
     "name": "stderr",
     "output_type": "stream",
     "text": [
      "c:\\Users\\Beyonka\\anaconda3\\envs\\dev\\lib\\site-packages\\sklearn\\cluster\\_kmeans.py:1436: UserWarning: KMeans is known to have a memory leak on Windows with MKL, when there are less chunks than available threads. You can avoid it by setting the environment variable OMP_NUM_THREADS=1.\n",
      "  warnings.warn(\n"
     ]
    },
    {
     "data": {
      "text/html": [
       "<style>#sk-container-id-1 {color: black;}#sk-container-id-1 pre{padding: 0;}#sk-container-id-1 div.sk-toggleable {background-color: white;}#sk-container-id-1 label.sk-toggleable__label {cursor: pointer;display: block;width: 100%;margin-bottom: 0;padding: 0.3em;box-sizing: border-box;text-align: center;}#sk-container-id-1 label.sk-toggleable__label-arrow:before {content: \"▸\";float: left;margin-right: 0.25em;color: #696969;}#sk-container-id-1 label.sk-toggleable__label-arrow:hover:before {color: black;}#sk-container-id-1 div.sk-estimator:hover label.sk-toggleable__label-arrow:before {color: black;}#sk-container-id-1 div.sk-toggleable__content {max-height: 0;max-width: 0;overflow: hidden;text-align: left;background-color: #f0f8ff;}#sk-container-id-1 div.sk-toggleable__content pre {margin: 0.2em;color: black;border-radius: 0.25em;background-color: #f0f8ff;}#sk-container-id-1 input.sk-toggleable__control:checked~div.sk-toggleable__content {max-height: 200px;max-width: 100%;overflow: auto;}#sk-container-id-1 input.sk-toggleable__control:checked~label.sk-toggleable__label-arrow:before {content: \"▾\";}#sk-container-id-1 div.sk-estimator input.sk-toggleable__control:checked~label.sk-toggleable__label {background-color: #d4ebff;}#sk-container-id-1 div.sk-label input.sk-toggleable__control:checked~label.sk-toggleable__label {background-color: #d4ebff;}#sk-container-id-1 input.sk-hidden--visually {border: 0;clip: rect(1px 1px 1px 1px);clip: rect(1px, 1px, 1px, 1px);height: 1px;margin: -1px;overflow: hidden;padding: 0;position: absolute;width: 1px;}#sk-container-id-1 div.sk-estimator {font-family: monospace;background-color: #f0f8ff;border: 1px dotted black;border-radius: 0.25em;box-sizing: border-box;margin-bottom: 0.5em;}#sk-container-id-1 div.sk-estimator:hover {background-color: #d4ebff;}#sk-container-id-1 div.sk-parallel-item::after {content: \"\";width: 100%;border-bottom: 1px solid gray;flex-grow: 1;}#sk-container-id-1 div.sk-label:hover label.sk-toggleable__label {background-color: #d4ebff;}#sk-container-id-1 div.sk-serial::before {content: \"\";position: absolute;border-left: 1px solid gray;box-sizing: border-box;top: 0;bottom: 0;left: 50%;z-index: 0;}#sk-container-id-1 div.sk-serial {display: flex;flex-direction: column;align-items: center;background-color: white;padding-right: 0.2em;padding-left: 0.2em;position: relative;}#sk-container-id-1 div.sk-item {position: relative;z-index: 1;}#sk-container-id-1 div.sk-parallel {display: flex;align-items: stretch;justify-content: center;background-color: white;position: relative;}#sk-container-id-1 div.sk-item::before, #sk-container-id-1 div.sk-parallel-item::before {content: \"\";position: absolute;border-left: 1px solid gray;box-sizing: border-box;top: 0;bottom: 0;left: 50%;z-index: -1;}#sk-container-id-1 div.sk-parallel-item {display: flex;flex-direction: column;z-index: 1;position: relative;background-color: white;}#sk-container-id-1 div.sk-parallel-item:first-child::after {align-self: flex-end;width: 50%;}#sk-container-id-1 div.sk-parallel-item:last-child::after {align-self: flex-start;width: 50%;}#sk-container-id-1 div.sk-parallel-item:only-child::after {width: 0;}#sk-container-id-1 div.sk-dashed-wrapped {border: 1px dashed gray;margin: 0 0.4em 0.5em 0.4em;box-sizing: border-box;padding-bottom: 0.4em;background-color: white;}#sk-container-id-1 div.sk-label label {font-family: monospace;font-weight: bold;display: inline-block;line-height: 1.2em;}#sk-container-id-1 div.sk-label-container {text-align: center;}#sk-container-id-1 div.sk-container {/* jupyter's `normalize.less` sets `[hidden] { display: none; }` but bootstrap.min.css set `[hidden] { display: none !important; }` so we also need the `!important` here to be able to override the default hidden behavior on the sphinx rendered scikit-learn.org. See: https://github.com/scikit-learn/scikit-learn/issues/21755 */display: inline-block !important;position: relative;}#sk-container-id-1 div.sk-text-repr-fallback {display: none;}</style><div id=\"sk-container-id-1\" class=\"sk-top-container\"><div class=\"sk-text-repr-fallback\"><pre>KMeans(n_clusters=4, n_init=10)</pre><b>In a Jupyter environment, please rerun this cell to show the HTML representation or trust the notebook. <br />On GitHub, the HTML representation is unable to render, please try loading this page with nbviewer.org.</b></div><div class=\"sk-container\" hidden><div class=\"sk-item\"><div class=\"sk-estimator sk-toggleable\"><input class=\"sk-toggleable__control sk-hidden--visually\" id=\"sk-estimator-id-1\" type=\"checkbox\" checked><label for=\"sk-estimator-id-1\" class=\"sk-toggleable__label sk-toggleable__label-arrow\">KMeans</label><div class=\"sk-toggleable__content\"><pre>KMeans(n_clusters=4, n_init=10)</pre></div></div></div></div></div>"
      ],
      "text/plain": [
       "KMeans(n_clusters=4, n_init=10)"
      ]
     },
     "execution_count": 13,
     "metadata": {},
     "output_type": "execute_result"
    }
   ],
   "source": [
    "# Fit the K-Means model using the scaled data\n",
    "model.fit(df_transformed)"
   ]
  },
  {
   "cell_type": "code",
   "execution_count": 14,
   "metadata": {
    "metadata": {}
   },
   "outputs": [
    {
     "data": {
      "text/plain": [
       "array([0, 0, 2, 2, 0, 0, 0, 0, 0, 2, 2, 2, 2, 0, 2, 0, 2, 2, 0, 2, 2, 0,\n",
       "       2, 2, 2, 2, 2, 2, 0, 2, 2, 2, 1, 0, 2, 2, 3, 2, 2, 2, 2])"
      ]
     },
     "execution_count": 14,
     "metadata": {},
     "output_type": "execute_result"
    }
   ],
   "source": [
    "# Predict the clusters to group the cryptocurrencies using the scaled data\n",
    "k_1 = model.predict(df_transformed)\n",
    "\n",
    "# Print the resulting array of cluster values.\n",
    "k_1"
   ]
  },
  {
   "cell_type": "code",
   "execution_count": 15,
   "metadata": {
    "metadata": {}
   },
   "outputs": [],
   "source": [
    "# Create a copy of the DataFrame\n",
    "df_market_data_predictions = df_transformed.copy()"
   ]
  },
  {
   "cell_type": "code",
   "execution_count": 16,
   "metadata": {
    "metadata": {}
   },
   "outputs": [
    {
     "data": {
      "text/html": [
       "<div>\n",
       "<style scoped>\n",
       "    .dataframe tbody tr th:only-of-type {\n",
       "        vertical-align: middle;\n",
       "    }\n",
       "\n",
       "    .dataframe tbody tr th {\n",
       "        vertical-align: top;\n",
       "    }\n",
       "\n",
       "    .dataframe thead th {\n",
       "        text-align: right;\n",
       "    }\n",
       "</style>\n",
       "<table border=\"1\" class=\"dataframe\">\n",
       "  <thead>\n",
       "    <tr style=\"text-align: right;\">\n",
       "      <th></th>\n",
       "      <th>price_change_percentage_24h</th>\n",
       "      <th>price_change_percentage_7d</th>\n",
       "      <th>price_change_percentage_14d</th>\n",
       "      <th>price_change_percentage_30d</th>\n",
       "      <th>price_change_percentage_60d</th>\n",
       "      <th>price_change_percentage_200d</th>\n",
       "      <th>price_change_percentage_1y</th>\n",
       "      <th>predicted_clusters</th>\n",
       "    </tr>\n",
       "    <tr>\n",
       "      <th>coin_id</th>\n",
       "      <th></th>\n",
       "      <th></th>\n",
       "      <th></th>\n",
       "      <th></th>\n",
       "      <th></th>\n",
       "      <th></th>\n",
       "      <th></th>\n",
       "      <th></th>\n",
       "    </tr>\n",
       "  </thead>\n",
       "  <tbody>\n",
       "    <tr>\n",
       "      <th>bitcoin</th>\n",
       "      <td>0.508529</td>\n",
       "      <td>0.493193</td>\n",
       "      <td>0.772200</td>\n",
       "      <td>0.235460</td>\n",
       "      <td>-0.067495</td>\n",
       "      <td>-0.355953</td>\n",
       "      <td>-0.251637</td>\n",
       "      <td>0</td>\n",
       "    </tr>\n",
       "    <tr>\n",
       "      <th>ethereum</th>\n",
       "      <td>0.185446</td>\n",
       "      <td>0.934445</td>\n",
       "      <td>0.558692</td>\n",
       "      <td>-0.054341</td>\n",
       "      <td>-0.273483</td>\n",
       "      <td>-0.115759</td>\n",
       "      <td>-0.199352</td>\n",
       "      <td>0</td>\n",
       "    </tr>\n",
       "    <tr>\n",
       "      <th>tether</th>\n",
       "      <td>0.021774</td>\n",
       "      <td>-0.706337</td>\n",
       "      <td>-0.021680</td>\n",
       "      <td>-0.061030</td>\n",
       "      <td>0.008005</td>\n",
       "      <td>-0.550247</td>\n",
       "      <td>-0.282061</td>\n",
       "      <td>2</td>\n",
       "    </tr>\n",
       "    <tr>\n",
       "      <th>ripple</th>\n",
       "      <td>-0.040764</td>\n",
       "      <td>-0.810928</td>\n",
       "      <td>0.249458</td>\n",
       "      <td>-0.050388</td>\n",
       "      <td>-0.373164</td>\n",
       "      <td>-0.458259</td>\n",
       "      <td>-0.295546</td>\n",
       "      <td>2</td>\n",
       "    </tr>\n",
       "    <tr>\n",
       "      <th>bitcoin-cash</th>\n",
       "      <td>1.193036</td>\n",
       "      <td>2.000959</td>\n",
       "      <td>1.760610</td>\n",
       "      <td>0.545842</td>\n",
       "      <td>-0.291203</td>\n",
       "      <td>-0.499848</td>\n",
       "      <td>-0.270317</td>\n",
       "      <td>0</td>\n",
       "    </tr>\n",
       "  </tbody>\n",
       "</table>\n",
       "</div>"
      ],
      "text/plain": [
       "              price_change_percentage_24h  price_change_percentage_7d  \\\n",
       "coin_id                                                                 \n",
       "bitcoin                          0.508529                    0.493193   \n",
       "ethereum                         0.185446                    0.934445   \n",
       "tether                           0.021774                   -0.706337   \n",
       "ripple                          -0.040764                   -0.810928   \n",
       "bitcoin-cash                     1.193036                    2.000959   \n",
       "\n",
       "              price_change_percentage_14d  price_change_percentage_30d  \\\n",
       "coin_id                                                                  \n",
       "bitcoin                          0.772200                     0.235460   \n",
       "ethereum                         0.558692                    -0.054341   \n",
       "tether                          -0.021680                    -0.061030   \n",
       "ripple                           0.249458                    -0.050388   \n",
       "bitcoin-cash                     1.760610                     0.545842   \n",
       "\n",
       "              price_change_percentage_60d  price_change_percentage_200d  \\\n",
       "coin_id                                                                   \n",
       "bitcoin                         -0.067495                     -0.355953   \n",
       "ethereum                        -0.273483                     -0.115759   \n",
       "tether                           0.008005                     -0.550247   \n",
       "ripple                          -0.373164                     -0.458259   \n",
       "bitcoin-cash                    -0.291203                     -0.499848   \n",
       "\n",
       "              price_change_percentage_1y  predicted_clusters  \n",
       "coin_id                                                       \n",
       "bitcoin                        -0.251637                   0  \n",
       "ethereum                       -0.199352                   0  \n",
       "tether                         -0.282061                   2  \n",
       "ripple                         -0.295546                   2  \n",
       "bitcoin-cash                   -0.270317                   0  "
      ]
     },
     "execution_count": 16,
     "metadata": {},
     "output_type": "execute_result"
    }
   ],
   "source": [
    "# Add a new column to the DataFrame with the predicted clusters\n",
    "df_market_data_predictions[\"predicted_clusters\"] = k_1\n",
    "\n",
    "# Display sample data\n",
    "df_market_data_predictions.head()"
   ]
  },
  {
   "cell_type": "code",
   "execution_count": 17,
   "metadata": {
    "metadata": {}
   },
   "outputs": [
    {
     "data": {
      "text/html": [
       "<img src='data:image/png;base64,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' style='max-width:100%; margin: auto; display: block; '/>"
      ],
      "text/plain": [
       ":NdOverlay   [predicted_clusters]\n",
       "   :Scatter   [price_change_percentage_24h]   (price_change_percentage_7d,coin_id)"
      ]
     },
     "execution_count": 17,
     "metadata": {
      "application/vnd.holoviews_exec.v0+json": {}
     },
     "output_type": "execute_result"
    }
   ],
   "source": [
    "# Create a scatter plot using hvPlot by setting \n",
    "# `x=\"price_change_percentage_24h\"` and `y=\"price_change_percentage_7d\"`. \n",
    "# Color the graph points with the labels found using K-Means and \n",
    "# add the crypto name in the `hover_cols` parameter to identify \n",
    "# the cryptocurrency represented by each data point.\n",
    "\n",
    "clusters_1 = df_market_data_predictions.hvplot.scatter(\n",
    "    x= \"price_change_percentage_24h\",\n",
    "    y=\"price_change_percentage_7d\",\n",
    "    by=\"predicted_clusters\",\n",
    "    hover_cols = \"coin_id\"\n",
    ")\n",
    "\n",
    "clusters_1"
   ]
  },
  {
   "attachments": {},
   "cell_type": "markdown",
   "metadata": {},
   "source": [
    "---"
   ]
  },
  {
   "attachments": {},
   "cell_type": "markdown",
   "metadata": {},
   "source": [
    "### Optimize Clusters with Principal Component Analysis."
   ]
  },
  {
   "cell_type": "code",
   "execution_count": 18,
   "metadata": {
    "metadata": {}
   },
   "outputs": [],
   "source": [
    "# Create a PCA model instance and set `n_components=3`.\n",
    "pca= PCA(n_components=3)"
   ]
  },
  {
   "cell_type": "code",
   "execution_count": 19,
   "metadata": {
    "metadata": {}
   },
   "outputs": [
    {
     "data": {
      "text/html": [
       "<div>\n",
       "<style scoped>\n",
       "    .dataframe tbody tr th:only-of-type {\n",
       "        vertical-align: middle;\n",
       "    }\n",
       "\n",
       "    .dataframe tbody tr th {\n",
       "        vertical-align: top;\n",
       "    }\n",
       "\n",
       "    .dataframe thead th {\n",
       "        text-align: right;\n",
       "    }\n",
       "</style>\n",
       "<table border=\"1\" class=\"dataframe\">\n",
       "  <thead>\n",
       "    <tr style=\"text-align: right;\">\n",
       "      <th></th>\n",
       "      <th>PC1</th>\n",
       "      <th>PC2</th>\n",
       "      <th>PC3</th>\n",
       "    </tr>\n",
       "  </thead>\n",
       "  <tbody>\n",
       "    <tr>\n",
       "      <th>0</th>\n",
       "      <td>-0.600667</td>\n",
       "      <td>0.842760</td>\n",
       "      <td>0.461595</td>\n",
       "    </tr>\n",
       "    <tr>\n",
       "      <th>1</th>\n",
       "      <td>-0.458261</td>\n",
       "      <td>0.458466</td>\n",
       "      <td>0.952877</td>\n",
       "    </tr>\n",
       "    <tr>\n",
       "      <th>2</th>\n",
       "      <td>-0.433070</td>\n",
       "      <td>-0.168126</td>\n",
       "      <td>-0.641752</td>\n",
       "    </tr>\n",
       "    <tr>\n",
       "      <th>3</th>\n",
       "      <td>-0.471835</td>\n",
       "      <td>-0.222660</td>\n",
       "      <td>-0.479053</td>\n",
       "    </tr>\n",
       "    <tr>\n",
       "      <th>4</th>\n",
       "      <td>-1.157800</td>\n",
       "      <td>2.041209</td>\n",
       "      <td>1.859715</td>\n",
       "    </tr>\n",
       "  </tbody>\n",
       "</table>\n",
       "</div>"
      ],
      "text/plain": [
       "        PC1       PC2       PC3\n",
       "0 -0.600667  0.842760  0.461595\n",
       "1 -0.458261  0.458466  0.952877\n",
       "2 -0.433070 -0.168126 -0.641752\n",
       "3 -0.471835 -0.222660 -0.479053\n",
       "4 -1.157800  2.041209  1.859715"
      ]
     },
     "execution_count": 19,
     "metadata": {},
     "output_type": "execute_result"
    }
   ],
   "source": [
    "# Use the PCA model with `fit_transform` to reduce to \n",
    "# three principal components.\n",
    "market_pca = pca.fit_transform(df_transformed)\n",
    "\n",
    "market_pca_df = pd.DataFrame(data=market_pca, columns=['PC1', 'PC2', 'PC3'])\n",
    "\n",
    "# View the first five rows of the DataFrame. \n",
    "market_pca_df[:5]\n"
   ]
  },
  {
   "cell_type": "code",
   "execution_count": 20,
   "metadata": {
    "metadata": {}
   },
   "outputs": [
    {
     "data": {
      "text/plain": [
       "array([0.3719856 , 0.34700813, 0.17603793])"
      ]
     },
     "execution_count": 20,
     "metadata": {},
     "output_type": "execute_result"
    }
   ],
   "source": [
    "# Retrieve the explained variance to determine how much information \n",
    "# can be attributed to each principal component.\n",
    "pca.explained_variance_ratio_\n"
   ]
  },
  {
   "cell_type": "code",
   "execution_count": 21,
   "metadata": {
    "metadata": {}
   },
   "outputs": [
    {
     "data": {
      "text/plain": [
       "0.8950316570309841"
      ]
     },
     "execution_count": 21,
     "metadata": {},
     "output_type": "execute_result"
    }
   ],
   "source": [
    "sum(pca.explained_variance_ratio_)\n"
   ]
  },
  {
   "attachments": {},
   "cell_type": "markdown",
   "metadata": {},
   "source": [
    "#### Answer the following question: \n",
    "\n",
    "**Question:** What is the total explained variance of the three principal components?\n",
    "\n",
    "**Answer:** At 89%, there is a total variance is condensed into 3 PCA variables."
   ]
  },
  {
   "cell_type": "code",
   "execution_count": 22,
   "metadata": {
    "metadata": {}
   },
   "outputs": [
    {
     "data": {
      "text/html": [
       "<div>\n",
       "<style scoped>\n",
       "    .dataframe tbody tr th:only-of-type {\n",
       "        vertical-align: middle;\n",
       "    }\n",
       "\n",
       "    .dataframe tbody tr th {\n",
       "        vertical-align: top;\n",
       "    }\n",
       "\n",
       "    .dataframe thead th {\n",
       "        text-align: right;\n",
       "    }\n",
       "</style>\n",
       "<table border=\"1\" class=\"dataframe\">\n",
       "  <thead>\n",
       "    <tr style=\"text-align: right;\">\n",
       "      <th></th>\n",
       "      <th>PC1</th>\n",
       "      <th>PC2</th>\n",
       "      <th>PC3</th>\n",
       "    </tr>\n",
       "    <tr>\n",
       "      <th>coin_id</th>\n",
       "      <th></th>\n",
       "      <th></th>\n",
       "      <th></th>\n",
       "    </tr>\n",
       "  </thead>\n",
       "  <tbody>\n",
       "    <tr>\n",
       "      <th>bitcoin</th>\n",
       "      <td>-0.600667</td>\n",
       "      <td>0.842760</td>\n",
       "      <td>0.461595</td>\n",
       "    </tr>\n",
       "    <tr>\n",
       "      <th>ethereum</th>\n",
       "      <td>-0.458261</td>\n",
       "      <td>0.458466</td>\n",
       "      <td>0.952877</td>\n",
       "    </tr>\n",
       "    <tr>\n",
       "      <th>tether</th>\n",
       "      <td>-0.433070</td>\n",
       "      <td>-0.168126</td>\n",
       "      <td>-0.641752</td>\n",
       "    </tr>\n",
       "    <tr>\n",
       "      <th>ripple</th>\n",
       "      <td>-0.471835</td>\n",
       "      <td>-0.222660</td>\n",
       "      <td>-0.479053</td>\n",
       "    </tr>\n",
       "    <tr>\n",
       "      <th>bitcoin-cash</th>\n",
       "      <td>-1.157800</td>\n",
       "      <td>2.041209</td>\n",
       "      <td>1.859715</td>\n",
       "    </tr>\n",
       "  </tbody>\n",
       "</table>\n",
       "</div>"
      ],
      "text/plain": [
       "                   PC1       PC2       PC3\n",
       "coin_id                                   \n",
       "bitcoin      -0.600667  0.842760  0.461595\n",
       "ethereum     -0.458261  0.458466  0.952877\n",
       "tether       -0.433070 -0.168126 -0.641752\n",
       "ripple       -0.471835 -0.222660 -0.479053\n",
       "bitcoin-cash -1.157800  2.041209  1.859715"
      ]
     },
     "execution_count": 22,
     "metadata": {},
     "output_type": "execute_result"
    }
   ],
   "source": [
    "# Create a new DataFrame with the PCA data.\n",
    "df_market_pca = pd.DataFrame(market_pca_df, columns=[\"PC1\", \"PC2\",\"PC3\"])\n",
    "# Creating a DataFrame with the PCA data\n",
    "\n",
    "# Copy the crypto names from the original data\n",
    "df_market_pca[\"coin_id\"]= df_market_data.index\n",
    "\n",
    "\n",
    "# Set the coinid column as index\n",
    "df_market_pca=df_market_pca.set_index(\"coin_id\")\n",
    "\n",
    "\n",
    "# Display sample data\n",
    "df_market_pca.head()"
   ]
  },
  {
   "attachments": {},
   "cell_type": "markdown",
   "metadata": {},
   "source": [
    "---"
   ]
  },
  {
   "attachments": {},
   "cell_type": "markdown",
   "metadata": {},
   "source": [
    "### Find the Best Value for k Using the PCA Data"
   ]
  },
  {
   "cell_type": "code",
   "execution_count": 23,
   "metadata": {
    "metadata": {}
   },
   "outputs": [],
   "source": [
    "# Create a list with the number of k-values from 1 to 11\n",
    "k = list(range(1,11))"
   ]
  },
  {
   "cell_type": "code",
   "execution_count": 24,
   "metadata": {
    "metadata": {}
   },
   "outputs": [
    {
     "name": "stderr",
     "output_type": "stream",
     "text": [
      "c:\\Users\\Beyonka\\anaconda3\\envs\\dev\\lib\\site-packages\\sklearn\\cluster\\_kmeans.py:1436: UserWarning: KMeans is known to have a memory leak on Windows with MKL, when there are less chunks than available threads. You can avoid it by setting the environment variable OMP_NUM_THREADS=1.\n",
      "  warnings.warn(\n",
      "c:\\Users\\Beyonka\\anaconda3\\envs\\dev\\lib\\site-packages\\sklearn\\cluster\\_kmeans.py:1436: UserWarning: KMeans is known to have a memory leak on Windows with MKL, when there are less chunks than available threads. You can avoid it by setting the environment variable OMP_NUM_THREADS=1.\n",
      "  warnings.warn(\n",
      "c:\\Users\\Beyonka\\anaconda3\\envs\\dev\\lib\\site-packages\\sklearn\\cluster\\_kmeans.py:1436: UserWarning: KMeans is known to have a memory leak on Windows with MKL, when there are less chunks than available threads. You can avoid it by setting the environment variable OMP_NUM_THREADS=1.\n",
      "  warnings.warn(\n",
      "c:\\Users\\Beyonka\\anaconda3\\envs\\dev\\lib\\site-packages\\sklearn\\cluster\\_kmeans.py:1436: UserWarning: KMeans is known to have a memory leak on Windows with MKL, when there are less chunks than available threads. You can avoid it by setting the environment variable OMP_NUM_THREADS=1.\n",
      "  warnings.warn(\n",
      "c:\\Users\\Beyonka\\anaconda3\\envs\\dev\\lib\\site-packages\\sklearn\\cluster\\_kmeans.py:1436: UserWarning: KMeans is known to have a memory leak on Windows with MKL, when there are less chunks than available threads. You can avoid it by setting the environment variable OMP_NUM_THREADS=1.\n",
      "  warnings.warn(\n",
      "c:\\Users\\Beyonka\\anaconda3\\envs\\dev\\lib\\site-packages\\sklearn\\cluster\\_kmeans.py:1436: UserWarning: KMeans is known to have a memory leak on Windows with MKL, when there are less chunks than available threads. You can avoid it by setting the environment variable OMP_NUM_THREADS=1.\n",
      "  warnings.warn(\n",
      "c:\\Users\\Beyonka\\anaconda3\\envs\\dev\\lib\\site-packages\\sklearn\\cluster\\_kmeans.py:1436: UserWarning: KMeans is known to have a memory leak on Windows with MKL, when there are less chunks than available threads. You can avoid it by setting the environment variable OMP_NUM_THREADS=1.\n",
      "  warnings.warn(\n",
      "c:\\Users\\Beyonka\\anaconda3\\envs\\dev\\lib\\site-packages\\sklearn\\cluster\\_kmeans.py:1436: UserWarning: KMeans is known to have a memory leak on Windows with MKL, when there are less chunks than available threads. You can avoid it by setting the environment variable OMP_NUM_THREADS=1.\n",
      "  warnings.warn(\n",
      "c:\\Users\\Beyonka\\anaconda3\\envs\\dev\\lib\\site-packages\\sklearn\\cluster\\_kmeans.py:1436: UserWarning: KMeans is known to have a memory leak on Windows with MKL, when there are less chunks than available threads. You can avoid it by setting the environment variable OMP_NUM_THREADS=1.\n",
      "  warnings.warn(\n",
      "c:\\Users\\Beyonka\\anaconda3\\envs\\dev\\lib\\site-packages\\sklearn\\cluster\\_kmeans.py:1436: UserWarning: KMeans is known to have a memory leak on Windows with MKL, when there are less chunks than available threads. You can avoid it by setting the environment variable OMP_NUM_THREADS=1.\n",
      "  warnings.warn(\n"
     ]
    }
   ],
   "source": [
    "# Create an empty list to store the inertia values\n",
    "inertia = []\n",
    "\n",
    "# Create a for loop to compute the inertia with each possible value of k\n",
    "# Inside the loop:\n",
    "# 1. Create a KMeans model using the loop counter for the n_clusters\n",
    "# 2. Fit the model to the data using `df_market_data_pca`\n",
    "# 3. Append the model.inertia_ to the inertia list\n",
    "\n",
    "for i in k:\n",
    "    k_model = KMeans(n_clusters=i, n_init=10)\n",
    "    k_model.fit(df_market_pca)\n",
    "    inertia.append(k_model.inertia_)"
   ]
  },
  {
   "cell_type": "code",
   "execution_count": 25,
   "metadata": {
    "metadata": {}
   },
   "outputs": [
    {
     "data": {
      "text/html": [
       "<div>\n",
       "<style scoped>\n",
       "    .dataframe tbody tr th:only-of-type {\n",
       "        vertical-align: middle;\n",
       "    }\n",
       "\n",
       "    .dataframe tbody tr th {\n",
       "        vertical-align: top;\n",
       "    }\n",
       "\n",
       "    .dataframe thead th {\n",
       "        text-align: right;\n",
       "    }\n",
       "</style>\n",
       "<table border=\"1\" class=\"dataframe\">\n",
       "  <thead>\n",
       "    <tr style=\"text-align: right;\">\n",
       "      <th></th>\n",
       "      <th>k</th>\n",
       "      <th>inertia</th>\n",
       "    </tr>\n",
       "  </thead>\n",
       "  <tbody>\n",
       "    <tr>\n",
       "      <th>0</th>\n",
       "      <td>1</td>\n",
       "      <td>256.874086</td>\n",
       "    </tr>\n",
       "    <tr>\n",
       "      <th>1</th>\n",
       "      <td>2</td>\n",
       "      <td>165.901994</td>\n",
       "    </tr>\n",
       "    <tr>\n",
       "      <th>2</th>\n",
       "      <td>3</td>\n",
       "      <td>93.774626</td>\n",
       "    </tr>\n",
       "    <tr>\n",
       "      <th>3</th>\n",
       "      <td>4</td>\n",
       "      <td>49.665497</td>\n",
       "    </tr>\n",
       "    <tr>\n",
       "      <th>4</th>\n",
       "      <td>5</td>\n",
       "      <td>37.878747</td>\n",
       "    </tr>\n",
       "  </tbody>\n",
       "</table>\n",
       "</div>"
      ],
      "text/plain": [
       "   k     inertia\n",
       "0  1  256.874086\n",
       "1  2  165.901994\n",
       "2  3   93.774626\n",
       "3  4   49.665497\n",
       "4  5   37.878747"
      ]
     },
     "execution_count": 25,
     "metadata": {},
     "output_type": "execute_result"
    }
   ],
   "source": [
    "# Create a dictionary with the data to plot the Elbow curve\n",
    "elbow_data2 = {\"k\": k, \"inertia\": inertia}\n",
    "\n",
    "# Create a DataFrame with the data to plot the Elbow curve\n",
    "df_elbow2 = pd.DataFrame(elbow_data2)\n",
    "df_elbow2.head()"
   ]
  },
  {
   "cell_type": "code",
   "execution_count": 26,
   "metadata": {
    "metadata": {}
   },
   "outputs": [
    {
     "data": {
      "text/html": [
       "<img src='data:image/png;base64,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' style='max-width:100%; margin: auto; display: block; '/>"
      ],
      "text/plain": [
       ":Curve   [k]   (inertia)"
      ]
     },
     "execution_count": 26,
     "metadata": {
      "application/vnd.holoviews_exec.v0+json": {}
     },
     "output_type": "execute_result"
    }
   ],
   "source": [
    "# Plot a line chart with all the inertia values computed with \n",
    "# the different values of k to visually identify the optimal value for k.\n",
    "\n",
    "elbow_2 = df_elbow2.hvplot.line(\n",
    "    x=\"k\", \n",
    "    y=\"inertia\", \n",
    "    title=\"Elbow Curve\", \n",
    "    xticks=k\n",
    ")\n",
    "\n",
    "elbow_2"
   ]
  },
  {
   "attachments": {},
   "cell_type": "markdown",
   "metadata": {},
   "source": [
    "#### Answer the following questions: \n",
    "\n",
    "* **Question:** What is the best value for `k` when using the PCA data?\n",
    "\n",
    "  * **Answer:** The best value for k is 4.\n",
    "\n",
    "\n",
    "* **Question:** Does it differ from the best k value found using the original data?\n",
    "\n",
    "  * **Answer:** No, there is not a difference in k from the orginal data. "
   ]
  },
  {
   "attachments": {},
   "cell_type": "markdown",
   "metadata": {},
   "source": [
    "### Cluster Cryptocurrencies with K-means Using the PCA Data"
   ]
  },
  {
   "cell_type": "code",
   "execution_count": 27,
   "metadata": {
    "metadata": {}
   },
   "outputs": [],
   "source": [
    "# Initialize the K-Means model using the best value for k\n",
    "model = KMeans(n_clusters=4, n_init=10)"
   ]
  },
  {
   "cell_type": "code",
   "execution_count": 28,
   "metadata": {
    "metadata": {}
   },
   "outputs": [
    {
     "name": "stderr",
     "output_type": "stream",
     "text": [
      "c:\\Users\\Beyonka\\anaconda3\\envs\\dev\\lib\\site-packages\\sklearn\\cluster\\_kmeans.py:1436: UserWarning: KMeans is known to have a memory leak on Windows with MKL, when there are less chunks than available threads. You can avoid it by setting the environment variable OMP_NUM_THREADS=1.\n",
      "  warnings.warn(\n"
     ]
    },
    {
     "data": {
      "text/html": [
       "<style>#sk-container-id-2 {color: black;}#sk-container-id-2 pre{padding: 0;}#sk-container-id-2 div.sk-toggleable {background-color: white;}#sk-container-id-2 label.sk-toggleable__label {cursor: pointer;display: block;width: 100%;margin-bottom: 0;padding: 0.3em;box-sizing: border-box;text-align: center;}#sk-container-id-2 label.sk-toggleable__label-arrow:before {content: \"▸\";float: left;margin-right: 0.25em;color: #696969;}#sk-container-id-2 label.sk-toggleable__label-arrow:hover:before {color: black;}#sk-container-id-2 div.sk-estimator:hover label.sk-toggleable__label-arrow:before {color: black;}#sk-container-id-2 div.sk-toggleable__content {max-height: 0;max-width: 0;overflow: hidden;text-align: left;background-color: #f0f8ff;}#sk-container-id-2 div.sk-toggleable__content pre {margin: 0.2em;color: black;border-radius: 0.25em;background-color: #f0f8ff;}#sk-container-id-2 input.sk-toggleable__control:checked~div.sk-toggleable__content {max-height: 200px;max-width: 100%;overflow: auto;}#sk-container-id-2 input.sk-toggleable__control:checked~label.sk-toggleable__label-arrow:before {content: \"▾\";}#sk-container-id-2 div.sk-estimator input.sk-toggleable__control:checked~label.sk-toggleable__label {background-color: #d4ebff;}#sk-container-id-2 div.sk-label input.sk-toggleable__control:checked~label.sk-toggleable__label {background-color: #d4ebff;}#sk-container-id-2 input.sk-hidden--visually {border: 0;clip: rect(1px 1px 1px 1px);clip: rect(1px, 1px, 1px, 1px);height: 1px;margin: -1px;overflow: hidden;padding: 0;position: absolute;width: 1px;}#sk-container-id-2 div.sk-estimator {font-family: monospace;background-color: #f0f8ff;border: 1px dotted black;border-radius: 0.25em;box-sizing: border-box;margin-bottom: 0.5em;}#sk-container-id-2 div.sk-estimator:hover {background-color: #d4ebff;}#sk-container-id-2 div.sk-parallel-item::after {content: \"\";width: 100%;border-bottom: 1px solid gray;flex-grow: 1;}#sk-container-id-2 div.sk-label:hover label.sk-toggleable__label {background-color: #d4ebff;}#sk-container-id-2 div.sk-serial::before {content: \"\";position: absolute;border-left: 1px solid gray;box-sizing: border-box;top: 0;bottom: 0;left: 50%;z-index: 0;}#sk-container-id-2 div.sk-serial {display: flex;flex-direction: column;align-items: center;background-color: white;padding-right: 0.2em;padding-left: 0.2em;position: relative;}#sk-container-id-2 div.sk-item {position: relative;z-index: 1;}#sk-container-id-2 div.sk-parallel {display: flex;align-items: stretch;justify-content: center;background-color: white;position: relative;}#sk-container-id-2 div.sk-item::before, #sk-container-id-2 div.sk-parallel-item::before {content: \"\";position: absolute;border-left: 1px solid gray;box-sizing: border-box;top: 0;bottom: 0;left: 50%;z-index: -1;}#sk-container-id-2 div.sk-parallel-item {display: flex;flex-direction: column;z-index: 1;position: relative;background-color: white;}#sk-container-id-2 div.sk-parallel-item:first-child::after {align-self: flex-end;width: 50%;}#sk-container-id-2 div.sk-parallel-item:last-child::after {align-self: flex-start;width: 50%;}#sk-container-id-2 div.sk-parallel-item:only-child::after {width: 0;}#sk-container-id-2 div.sk-dashed-wrapped {border: 1px dashed gray;margin: 0 0.4em 0.5em 0.4em;box-sizing: border-box;padding-bottom: 0.4em;background-color: white;}#sk-container-id-2 div.sk-label label {font-family: monospace;font-weight: bold;display: inline-block;line-height: 1.2em;}#sk-container-id-2 div.sk-label-container {text-align: center;}#sk-container-id-2 div.sk-container {/* jupyter's `normalize.less` sets `[hidden] { display: none; }` but bootstrap.min.css set `[hidden] { display: none !important; }` so we also need the `!important` here to be able to override the default hidden behavior on the sphinx rendered scikit-learn.org. See: https://github.com/scikit-learn/scikit-learn/issues/21755 */display: inline-block !important;position: relative;}#sk-container-id-2 div.sk-text-repr-fallback {display: none;}</style><div id=\"sk-container-id-2\" class=\"sk-top-container\"><div class=\"sk-text-repr-fallback\"><pre>KMeans(n_clusters=4, n_init=10)</pre><b>In a Jupyter environment, please rerun this cell to show the HTML representation or trust the notebook. <br />On GitHub, the HTML representation is unable to render, please try loading this page with nbviewer.org.</b></div><div class=\"sk-container\" hidden><div class=\"sk-item\"><div class=\"sk-estimator sk-toggleable\"><input class=\"sk-toggleable__control sk-hidden--visually\" id=\"sk-estimator-id-2\" type=\"checkbox\" checked><label for=\"sk-estimator-id-2\" class=\"sk-toggleable__label sk-toggleable__label-arrow\">KMeans</label><div class=\"sk-toggleable__content\"><pre>KMeans(n_clusters=4, n_init=10)</pre></div></div></div></div></div>"
      ],
      "text/plain": [
       "KMeans(n_clusters=4, n_init=10)"
      ]
     },
     "execution_count": 28,
     "metadata": {},
     "output_type": "execute_result"
    }
   ],
   "source": [
    "# Fit the K-Means model using the PCA data\n",
    "model.fit(df_market_pca)"
   ]
  },
  {
   "cell_type": "code",
   "execution_count": 29,
   "metadata": {
    "metadata": {}
   },
   "outputs": [
    {
     "name": "stdout",
     "output_type": "stream",
     "text": [
      "[0 0 1 1 0 0 0 0 0 1 1 1 1 0 1 0 1 1 0 1 1 0 1 1 1 1 1 1 0 1 1 1 2 0 1 1 3\n",
      " 1 1 1 1]\n"
     ]
    }
   ],
   "source": [
    "# Predict the clusters to group the cryptocurrencies using the PCA data\n",
    "market_clusters = model.predict(df_market_pca)\n",
    "# Print the resulting array of cluster values.\n",
    "print(market_clusters)"
   ]
  },
  {
   "cell_type": "code",
   "execution_count": 30,
   "metadata": {
    "metadata": {}
   },
   "outputs": [
    {
     "data": {
      "text/html": [
       "<div>\n",
       "<style scoped>\n",
       "    .dataframe tbody tr th:only-of-type {\n",
       "        vertical-align: middle;\n",
       "    }\n",
       "\n",
       "    .dataframe tbody tr th {\n",
       "        vertical-align: top;\n",
       "    }\n",
       "\n",
       "    .dataframe thead th {\n",
       "        text-align: right;\n",
       "    }\n",
       "</style>\n",
       "<table border=\"1\" class=\"dataframe\">\n",
       "  <thead>\n",
       "    <tr style=\"text-align: right;\">\n",
       "      <th></th>\n",
       "      <th>PC1</th>\n",
       "      <th>PC2</th>\n",
       "      <th>PC3</th>\n",
       "      <th>predicted_clusters</th>\n",
       "    </tr>\n",
       "    <tr>\n",
       "      <th>coin_id</th>\n",
       "      <th></th>\n",
       "      <th></th>\n",
       "      <th></th>\n",
       "      <th></th>\n",
       "    </tr>\n",
       "  </thead>\n",
       "  <tbody>\n",
       "    <tr>\n",
       "      <th>bitcoin</th>\n",
       "      <td>-0.600667</td>\n",
       "      <td>0.842760</td>\n",
       "      <td>0.461595</td>\n",
       "      <td>0</td>\n",
       "    </tr>\n",
       "    <tr>\n",
       "      <th>ethereum</th>\n",
       "      <td>-0.458261</td>\n",
       "      <td>0.458466</td>\n",
       "      <td>0.952877</td>\n",
       "      <td>0</td>\n",
       "    </tr>\n",
       "    <tr>\n",
       "      <th>tether</th>\n",
       "      <td>-0.433070</td>\n",
       "      <td>-0.168126</td>\n",
       "      <td>-0.641752</td>\n",
       "      <td>1</td>\n",
       "    </tr>\n",
       "    <tr>\n",
       "      <th>ripple</th>\n",
       "      <td>-0.471835</td>\n",
       "      <td>-0.222660</td>\n",
       "      <td>-0.479053</td>\n",
       "      <td>1</td>\n",
       "    </tr>\n",
       "    <tr>\n",
       "      <th>bitcoin-cash</th>\n",
       "      <td>-1.157800</td>\n",
       "      <td>2.041209</td>\n",
       "      <td>1.859715</td>\n",
       "      <td>0</td>\n",
       "    </tr>\n",
       "  </tbody>\n",
       "</table>\n",
       "</div>"
      ],
      "text/plain": [
       "                   PC1       PC2       PC3  predicted_clusters\n",
       "coin_id                                                       \n",
       "bitcoin      -0.600667  0.842760  0.461595                   0\n",
       "ethereum     -0.458261  0.458466  0.952877                   0\n",
       "tether       -0.433070 -0.168126 -0.641752                   1\n",
       "ripple       -0.471835 -0.222660 -0.479053                   1\n",
       "bitcoin-cash -1.157800  2.041209  1.859715                   0"
      ]
     },
     "execution_count": 30,
     "metadata": {},
     "output_type": "execute_result"
    }
   ],
   "source": [
    "# Create a copy of the DataFrame with the PCA data\n",
    "market_pca_predictions_df = df_market_pca.copy()\n",
    "\n",
    "# Add a new column to the DataFrame with the predicted clusters\n",
    "market_pca_predictions_df[\"predicted_clusters\"] = market_clusters\n",
    "\n",
    "# Display sample data\n",
    "market_pca_predictions_df.head()"
   ]
  },
  {
   "cell_type": "code",
   "execution_count": 31,
   "metadata": {
    "metadata": {}
   },
   "outputs": [
    {
     "data": {
      "text/html": [
       "<img src='data:image/png;base64,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' style='max-width:100%; margin: auto; display: block; '/>"
      ],
      "text/plain": [
       ":NdOverlay   [predicted_clusters]\n",
       "   :Scatter   [PC1]   (PC2,coin_id)"
      ]
     },
     "execution_count": 31,
     "metadata": {
      "application/vnd.holoviews_exec.v0+json": {}
     },
     "output_type": "execute_result"
    }
   ],
   "source": [
    "# Create a scatter plot using hvPlot by setting \n",
    "# `x=\"PC1\"` and `y=\"PC2\"`. \n",
    "# Color the graph points with the labels found using K-Means and \n",
    "# add the crypto name in the `hover_cols` parameter to identify \n",
    "# the cryptocurrency represented by each data point.\n",
    "\n",
    "clusters_2 = market_pca_predictions_df.hvplot.scatter(\n",
    "    x=\"PC1\",\n",
    "    y=\"PC2\",\n",
    "    by=\"predicted_clusters\",\n",
    "    hover_cols= \"coin_id\"\n",
    ")\n",
    "\n",
    "clusters_2"
   ]
  },
  {
   "attachments": {},
   "cell_type": "markdown",
   "metadata": {},
   "source": [
    "### Visualize and Compare the Results\n",
    "\n",
    "In this section, you will visually analyze the cluster analysis results by contrasting the outcome with and without using the optimization techniques."
   ]
  },
  {
   "cell_type": "code",
   "execution_count": 32,
   "metadata": {
    "metadata": {}
   },
   "outputs": [
    {
     "data": {
      "text/html": [
       "<img src='data:image/png;base64,iVBORw0KGgoAAAANSUhEUgAAAloAAACiCAYAAACZBWO3AAAAOXRFWHRTb2Z0d2FyZQBNYXRwbG90bGliIHZlcnNpb24zLjcuMiwgaHR0cHM6Ly9tYXRwbG90bGliLm9yZy8pXeV/AAAACXBIWXMAAAsTAAALEwEAmpwYAAAtAElEQVR4nO3deXxU9b3/8deZJXtISExCNjahEIIQBUEtGgEjerXQgkXAhVYs2qq9llut1V+l3toL6rVi1daCWnGpeG0VXKEgsogiTVkUUEQEyUYSspA9meX8/phkSCSsmclMkvfz8chjMtv3fKLJh/d8z/ecY5imaSIiIiIiPmcJdAEiIiIi3ZWCloiIiIifKGiJiIiI+ImCloiIiIifKGiJiIiI+ImCloiIiIifKGiJiIiI+ImCloiIiIifKGiJiIiI+ImCloiIiIifKGiJiIiI+ImCloiIiIifKGiJiIiI+ImCloiIiIif+CxoffjhhxiG0eZr165dvhpeRKRTPf/888f0NMMwiIiIYODAgcyYMYNNmzYFukwRCXI+C1rPP//8KT0mItKV1dfXs3//fl599VWys7N5++23A12SiAQxnwSt+vp6XnvttWMef+mll3C5XL7YhIhIQG3cuJGNGzfy8ssvk5SUBIDL5eIPf/hDgCsTkWDmk6D1+uuvU1VVBcAFF1zA0KFDATh06BCrVq3yxSZERAJq3LhxjBs3jlmzZnH99dd7Hy8sLAxgVSIS7HwStFrvIrz++uu57rrr2n1Ouqfnn3+ecePGee8bhsFXX30VwIpE/Cc/P58PPvjAe3/kyJEBrEb8Sb1NfKHDQSsvL4+1a9cCYLPZmD59epug9eabb1JRUdHRzUiA9e/fn/DwcKKiorxft99+e6DL8ioqKmLOnDkkJycTHR3N0KFDmT9/PrW1tYEuTbqJlsXw6enpbN26FYDhw4fz8MMPB7gy6Qj1NvG3DgetF198EbfbDcCkSZNISEhgwIABXHTRRQA0NjaybNmyjm5GgsBbb71FTU2N9+vJJ58MdEkAlJeXc+GFF1JfX8/HH39MdXU1q1evprKykn379p32eE6n0w9VSncUGRlJdXV1oMuQDlJvE3/qcNBaunSp9/vWM1nafdizvfvuuwwcOJCzzjqLu+66yxvG3W43Dz74IP369SMxMZEbb7yRI0eOADB79mweffRRAAoKCjAMgz/96U8AfPXVV8TFxWGa5jHb+sMf/kB0dDQvvfQS/fv3ByA9PZ3HH3+cESNGcODAAQzDaNNkLr30Up555hnA8/v53e9+l1/84hfExcXxm9/8htjYWHbu3Ol9fWlpKeHh4ZSUlADw9ttvk5WVRWxsLBdddBGffvqpj/8LSrBpWQz/5ptvMn78eAA++eQTrrjiChobGwNcnXQW9TY5XR0KWh999BFffvml9/6sWbO80+u33Xab9/EtW7bw+eefd2RT0sW88cYb5ObmsnXrVlasWMFzzz0HeP7wn3/+eT744AO+/vprampqvNP02dnZrFu3DoD169czcOBA1q9fD8CGDRu4+OKLMQzjmG2tWbOGqVOnYrGc+a/zJ598wsCBAykpKeH+++9n6tSpvPLKK97n/+///o/s7GwSExPZunUrN910E3/5y18oKyvjlltuYfLkyfrHtptrWQz/ve99j7/97W/exwsKCry/p9L9qbfJ6epQ0Go9m+XL10pw+v73v09sbKz3a8mSJcd97a9+9Svi4uLo27cvd955p/cP++WXX2bevHkMHDiQqKgoFixYwLJly3A6nWRnZ7Nx40bcbjcbNmzg7rvv9p4Qcv369WRnZ7e7rbKyMpKTkzv0s6WkpHDHHXdgs9kIDw9n1qxZbZrR3/72N2bNmgXAkiVLuOWWWxg7dixWq5XZs2cTGhrK5s2bO1SDdB3fnn0oLy8PUCXiC+pt6m3+ZDvTNzY0NPDqq6967//yl7/k7LPPbvOazz77zDs9+uKLL/L73/8eq9V6ppuUAFu+fDmXXXbZKb02PT3d+32/fv28h8AXFhbSr1+/Ns85nU6Ki4s5++yziYqKYvv27WzcuJHf/OY3PPvss+zZs4f169fz85//vN1txcfHU1RU1IGfrG29ABMmTKC+vp5PPvmEPn36sH37dn7wgx8A8M0337B06VKeeOIJ7+ubmpp0mH839+GHHwJQUVHBY4891ua5YcOGBaIk8RH1NvU2fzrjoPXGG2949z/36tWLBx98kNDQ0DavqaysZMmSJTgcDgoLC1m9ejVXXHFFxyqWLiEvL4/MzEwADh48SEpKCuD5dPXNN994X3fw4EFsNpv3BJDZ2dn8/e9/p6mpidTUVLKzs3nhhReoqKggKyur3W1ddtllvPHGG8yfP7/dKfbIyEgA6urq6NWrF+A5x1tr3562t1gsTJ8+nVdeeYWkpCSuvvpqoqOjAU/juu+++7jvvvtO9z+LdGEXX3xxu4/PmjWLESNGdHI1EijqbXK6znjXYetdgVdfffUxIQsgNjbWu2gUtCi+J3nkkUeoqKggLy+Pxx9/nGuvvRaAmTNn8thjj7F//35qamq49957ufbaa7HZPJk/OzubJ598kksuuQTwLOx84oknGDdu3HFnQ+fNm0dVVRWzZ8/2NrqCggLmzZvHp59+SkJCAqmpqd4rFTz33HOndMTOrFmzePXVV3n55Ze9U+sAP/nJT3j66af55JNPME2T2tpa3nnnHR191kNYrVbi4+PJzs5m8eLFvPDCC4EuSTqRepucrjMOWitXrsQ0TUzT5OWXXz7u61atWuV9nU7z0LV973vfa3OumZbp5vZMmTKFUaNGkZWVxVVXXcWcOXMAuOmmm7jhhhu45JJLGDBgAGFhYW2mqbOzs6murvY2o3HjxlFXV+e93564uDg++ugj7HY7Y8eOJTo6mokTJxITE8OgQYMAz9qDRx55hPj4eHbt2uU9/ciJjB07lsjISAoLC7nyyiu9j48ePZolS5Zw++2307t3bwYNGqQPEd3Qj370I2/vav3ldDo5fPgw69at4yc/+YmWQ3QD6m0e6m3+YZjtHVMqIiIiIh3mk0vwiIiIiMixFLRERERE/ERBS0RERMRPFLRERERE/ERBS0RERMRPumTQamhoYMyYMYwcOZLMzEzmz58PeC6DkZOTw+DBg8nJyaGiosL7ngULFjBo0CCGDBnCqlWrTmk7OrmqiHQm9TaR7qdLBq3Q0FDWrl3Ljh072L59OytXrmTz5s0sXLiQiRMnsnfvXiZOnMjChQsB2L17N8uWLWPXrl2sXLmSn/3sZ7hcrpNu5/Dhw/7+UUREvNTbRLqfLhm0DMMgKioKAIfDgcPhwDAMVqxYwezZswGYPXs2y5cvB2DFihXMmDGD0NBQBgwYwKBBg9iyZUugyhcRaZd6m0j30yWDFoDL5SIrK4vExERycnIYO3YsxcXF3iudJycnU1JSAnguWdD6wpppaWkUFBQEpG4RkRNRbxPpXrps0LJarWzfvp38/Hy2bNnCzp07j/va9k5+/+0LbbZYvHgxo0ePZvTo0ZSWlvqsXhGRU6HeJtK9dNmg1SI2NpZLL72UlStXkpSURFFREQBFRUUkJiYCnk95eXl53vfk5+d7r7j+bXPnziU3N5fc3FwSEhL8/wOIiLRDvU2ke+iSQau0tJTKykoA6uvrWbNmDUOHDmXy5MksXboUgKVLlzJlyhQAJk+ezLJly2hsbGT//v3s3buXMWPGnHQ7RxpPvqhURMRXOqu3iUjnsQW6gDNRVFTE7NmzcblcuN1upk+fztVXX82FF17I9OnTefbZZ+nbty+vvfYaAJmZmUyfPp1hw4Zhs9l46qmnsFqtJ91OYa2TlfuruWJAtL9/JBGRTuttItJ5DLO9nfwCQMSAcxj2u9dZeHEfLuunsCUi3cPo0aPJzc0NdBkiPUKX3HXYWc4Kt+Iy4dcbD7E+rybQ5YiIiEgXo6B1AokRNm4cFovThLs2HGJTQW2gSxIREZEuREHrJO487yxmDo3F4Tb5r/VFfFJUF+iSREREpItQ0DoJwzC4a/RZTBvci0aXyZ0fFLK1uD7QZYmIiEgXoKB1CgzD4N6xiUw5uxcNLpM71hawo1RhS0RERE5MQesUWQyD31yQyH8MiKbOaXL7+4XsKmsIdFkiIqftSKM70CWI9BgKWqfBajF44KIkcvpFUeNw87M1Bewpbwx0WSIip6Ww1sE6HUkt0ikUtE6TzWLw+3F9uDQtkqomN7euKeCrCoUtEek6TBN+teGQDu4R6QQKWmfAbjF46JI+jEuNoLLRxa1rCjhwpCnQZYmInJK4MCtNbpNfrCvUelMRP1PQOkMhVgv/m53M2D7hlDW4mLs6n4NVClsiEvz6RNq4amA09U6TO9YWagmEiB8paHVAqNXCY+NTGJUUTmm9i1tWF1BY4wh0WSIiJ/XbC5OYkB5JdZObn2pWXsRvFLQ6KNxm4Y/jUxiZEMahOidzV+dzqFZhS0SCm81isODiPlyUEkFF8xIIfVAU8T0FLR+IsFt4YkIKmfGhFNQ4uWV1AaV1zkCXJSJyQi1LIM5NDKO4zsmta9S7RHxNQctHokOs/GliKkPjQjlY7eCWNQWU16thiUhwC7dZeHx8ChlxoeRVO/jpmgIqG12BLkuk21DQ8qFeoZ6wNTg2hP1HmrhVDUtEuoDoECtPTUxlYEwI+440cdv7BdQ0qXeJ+IKClo/1DrPy9GWpDOhlZ29lEz9dU0CVwpaIBLneYVb+fFkqaVF2dpc18vMPCql36gzyIh2loOUHceE2ns5JIz3azhfljfp0KCJdQmKEjacvSyUxwsa2kgZ+ub6IJpfClkhHKGj5SWKEjcU5qaRG2dhZ1sjtawupc6hhiUhwS4228/RlqcSGWvmosI57PyzG6TYDXZZIl9Ulg1ZeXh7jx48nIyODzMxMHn/8cQDKy8vJyclh8ODB5OTkUFFR4X3PggULGDRoEEOGDGHVqlWdUmefSDuLc9LoE2FjR2kD/6mpeBE5gWDpbQNiQvjzZSlE2S28f7CG//64GLepsCVyJrpk0LLZbDz66KN8/vnnbN68maeeeordu3ezcOFCJk6cyN69e5k4cSILFy4EYPfu3Sxbtoxdu3axcuVKfvazn+Fydc6uvJQoO4svTyUh3EpucT3z1hXRqKl4EWlHMPW2oXFhPDEhhTCrwVtfV/Pwv0oxFbZETluXDFrJycmcd955AERHR5ORkUFBQQErVqxg9uzZAMyePZvly5cDsGLFCmbMmEFoaCgDBgxg0KBBbNmypdPqTY8OYXFOGvFhVjYX1Wndg4i0K9h6W1ZiOI+NT8FuMXh1zxGe2l7ms7FFeoouGbRaO3DgANu2bWPs2LEUFxeTnJwMeBpWSUkJAAUFBaSnp3vfk5aWRkFBQafW2T8mhL/keNY9fFhQx3+tL6Jea7ZE5DiCpbddkBzBQ5f0wWrAszsreG5nuU/HF+nubIEuoMU777zDrl27aGho8D52//33n/A9NTU1TJs2jUWLFtGrV6/jvq696W7DMNp97eLFi1m8eDEApaWlp1L6KTs7NpSnL0vlltX5fFhQx82r8/nj+BTiw4Pmf4OI+Fh36G3j06P474uS+H+binliWxlRdgvTh8Se1hgiPVVQzGjdeuutvPrqqzzxxBOYpslrr73GN998c8L3OBwOpk2bxnXXXcfUqVMBSEpKoqioCICioiISExMBz6e8vLw873vz8/NJSUlpd9y5c+eSm5tLbm4uCQkJvvjx2hgSF8rSK9O956q58b089utiriLdUnfqbf8xsBf3jvVsd8GWUt7aV3XaY4j0REERtD766CNeeOEFevfuzfz58/n444/bNI9vM02TOXPmkJGRwbx587yPT548maVLlwKwdOlSpkyZ4n182bJlNDY2sn//fvbu3cuYMWP8+0OdQL9eISy9Io3M+FAKa538aGUeW4vrA1aPiPhHd+tt13wnhl+cdxYAv/24mPcP1vhtWyLdRVAErfDwcAAiIiIoLCzEbrezf//+475+06ZNvPjii6xdu5asrCyysrJ49913ueeee1i9ejWDBw9m9erV3HPPPQBkZmYyffp0hg0bxhVXXMFTTz2F1WrtlJ/teOLCbSzJSSM7LZKqJje3rilg1YHqgNYkIr7VHXvbjZm9+ck5cbhNuGdjER8V1vp1eyJdnWEGwfG6v/vd77jjjjt4//33ue222zAMg5tvvpnf/e53Aa1r9OjR5Obm+nUbLrfJI7mlvLrnCAC/OO8sbhgWe9x1FiLSdXTX3maaJo/mHublLyoJsxo8NTGV85LCfVihSPcRFEGrtcbGRhoaGoiJiQl0KZ0StMDTtF7cXcljWw8DcO2QGO4anYDVorAl0l10t95mmib/vbmE5V9VEWm38JecVDLjw3xUoUj3EdDD3dauXcuECRN4/fXX232+ZSFod2cYBjdm9iYp0sZvNhXz6p4jHKp1suDiPoTbgmLvroichp7Q2wzD4P+NTaTO4eaf39Rw+/sFPHN5GmfHhga6NJGgEtCgtX79eiZMmMBbb711zHOGYXSLZnQ6JvWPJiHcxi/WFbI+v5a5/8zn8fEpxOn0DyJdSk/pbVaLwYPf7UO9s5CNBXXcuqaA5yalkR4dEujSRIJGUOw63L9/PwMGDDjpY52ts3Ydftv+I03c/n4BhbVO0qLsPDkxhX691LhEupqe0tsanG7uWFtIbnE9CeFWFo1PYZh2I4oAQXLU4bRp04557JprrglAJcFhQEwIL1yZzrD4UPJrHMx+L4/tJTr9g0hX01N6W5jNwqLxKYxKCqe03sWcVfms/kZHUYtAgHcdfvHFF+zatYsjR460WctQVVXV5izKPVF8uI1nctK4Z+MhNhTUcsvqAh4cl0ROv+hAlyYiJ9ETe1uk3cKfJ6by+09KWLGvirs3HOK2LAdzhvfWUdTSowU0aO3Zs4e3336bysrKNmsZoqOjWbJkSQArCw7hdguPXprMQ/8q5e9fHuFXGw5xaJST6zN0+geRYNZTe5vdajD/wkQGxoSwaOthntpexv4jTdx/YSKh1qDYgSLS6QK+RsvlcvHQQw9x7733BrKMdgVqjda3mabJ87sq+OO2MgBmDo3lv0adpdM/iASxnt7b1uXVcO+Hh6h3mpxzVhiPXZqs67pKjxTwjxhWq5XVq1cHuoygZhgGPx4ex/+M64PdYvDKF5XcvaGIeqc70KWJyHH09N52aXoUz1+RTp9IG58dbuD69/L4sqIx0GWJdLqAz2gB3HfffRw5coRrr72WyMhI7+PnnXdeAKsKnhmt1nKL65i3rojqJjfnnBXGovHJxIXpU6JIMFJvg7J6J79YV8RnhxuIsBn8z7g+ZKdHdcq2RYJBUASt8ePHH/OYYRisXbs2ANUcFYxBC2BfZSO3ry3kUK2T9Gg7T0zQ6R9EgpF6m0ejy80DH5Xw3oFqDOBOXWpMepCgCFrBKliDFkBpnZOff1DIF+WNxIZ6Dq0emaBrjYnIyQWit5mmyTOfVfCnHZ61plPO7sV9YxOxWxW2pHsL+BotgOLiYubMmcOVV14JwO7du3n22WcDXFVwS4iw8ezlaXw3JYLKRje3rC7g/YM1gS5LRFpRbzvKMAx+MiKOhy/pQ5jVYMW+Km5dU0BFgyvQpYn4VVAErR/96EdMmjSJwsJCAL7zne+waNGiwBbVBUTYPTNZUwf1otFlctf6Iv72eUWgyxKRZuptx8rpF80zk9JICLeytaSeG9/L4+sjTYEuS8RvgiJoHT58mOnTp2OxeMqx2WxYrdYAV9U12CwG/++CRG7PiscEHsk9zPyPDlFS5wx0aSI9nnpb+zLjw3jpP/qSEXf06hcfF9YGuiwRvwiKoBUZGUlZWZl3YeTmzZuJiYkJcFVdh2EYzDknjge/m4TNAm/uq+Z7bxzgf/9VSlm9ApdIoKi3HV9i8/KHCX0jqXF4rpW47IvKQJcl4nNBsRh+69at3HHHHezcuZPhw4dTWlrK3//+d0aMGBHQuoJ5MfzxfH2kiad3lLH6G896rTCrwYyhsczO7E1sqD5Ji3Qm9baTc5smf95exjM7Pcsepn8nhrvOT8CmEzJLNxEUQQvA6XSyZ88eTNNkyJAh2O32QJcUVM3odO0pb+TPO8pYn++Zjo+0W5g1NJYbhsUSHaLAJdJZ1NtOzTtfV/HAxyU43CZj+4TzSHayepV0C0Gx6xBgy5Yt7Nixg61bt/LKK6/wwgsvnPD1N910E4mJiQwfPtz7WHl5OTk5OQwePJicnBwqKo4uDF+wYAGDBg1iyJAhrFq1ym8/R7AYEhfKovEpvHhlOhelRFDrcLPks3KueuMAz3xWTq1DZ5UX6QzqbafmqoG9WHJ5KnFhVj455Fkkf7BKi+Sl6wuKGa0bbriBffv2kZWV5V0oahgGf/zjH4/7ng0bNhAVFcWNN97Izp07Abj77ruJi4vjnnvuYeHChVRUVPDQQw+xe/duZs6cyZYtWygsLOSyyy7jyy+/POmi1GD81HemtpXU86ftZeQW1wMQG2rlx5m9+eGQGMJtQZO3RboV9bbTV1jj4M4PCtlb2URMiIX/zU5mdJ+IQJclcsaCImhlZGSwe/fu0z5L8IEDB7j66qu9zWjIkCGsW7eO5ORkioqKuPTSS9mzZw8LFiwA4Ne//jUAkyZN4re//S0XXnjhCccP5mZ0prYU1fHUjjI+LW0A4KxwKzcNj2Pa4F6EWBW4RHxJve3M1Drc3LvxEBsKarEZ8OuxiUwdrIMIpGsKin9Zhw8fzqFDhzo8TnFxMcnJyQAkJydTUlICQEFBAenp6d7XpaWlUVBQ0O4YixcvZvTo0YwePZrS0tIO1xRsxiRH8PykNJ6YkEJGXCiH6108/K9SJi//hn98eQSHO+C5W6TbUG87M5F2C3+4NJkbhsXiNOF3m0t4NLcUl/qTdEFBcTXiw4cPM2zYMMaMGUNoaKj38TfffNMn47c3aXe8T5hz585l7ty5gOdTX3dkGAbjUiP5bkoE6/Jq+fOOMvZWNvHgJyX8dVc5c0fE8x8DonXUj0gHqbedOavFYN6oBAb0CuF/Pinhpc8r+by8kZ+fG88IXW5MupCgCFq//e1vfTJOUlISRUVF3un1xMREwPMpLy8vz/u6/Px8UlJSfLLNrswwDMb3jSI7PZLV39Tw9I4yDlQ5mP9RMc/tLOeWEfFM6h+FRRd+FTkj6m0d94PBMaRH27lrQxH/Lq5n9sp8Lk6N4Kcj48mIDwt0eSInFRRBKzs72yfjTJ48maVLl3LPPfewdOlSpkyZ4n181qxZzJs3j8LCQvbu3cuYMWN8ss3uwGIYTOofzcS+Uby3v5rFn5bzTZWDez88xHM7Q7h1ZDwT0iNPe52JSE+n3uYbo/tEsHxKf17cXcHfvqhkY0EdGwvqmJAeya0j4xncO/Tkg4gESEAXw48bN44PP/yQ6OjoNv+Im6aJYRhUVVUd970zZ85k3bp1HD58mKSkJB544AG+//3vM336dA4ePEjfvn157bXXiIuLA+D3v/89zz33HDabjUWLFnkv8noiwb5g1F8cbpO39lWx5NNyDjVfymdoXCg/GxnPuNQIBS6Rk1Bv85/yBidLd1Xw6p4jNLpMDODy/lHcOiKe/jEhgS5P5BhBcdRhsOrKzcgXmlxuXt9bxbM7yzlc7wKgT4SNwb1DGBQbyqDYEM6ODWVAjF1HLIp0Id2ht5XWOXluZzn/2FuFw21iMeCqAdHMHRFPWnTgTwor0kJB6wS6QzPyhXqnm9e+PMLzOyuoaHQd87zVgL69QhgU2/IVytmxIaRF2bFqQb1I0OlOve1QrYNnPitnxVdVOE2wGTD57F7cPCKO5EgFLgk8Ba0T6E7NyBecbpO8agdfVTbyVWUTX1U2sq+yibxqB+0ddR1mNRgQ0xy+eod6Q1hCuFW7H0UCqDv2tvxqB0s+K+Ptr6txm2C3GEwd3IubhseRGBEUy5Glh1LQOoHu2Iz8ocHpZv+RJm/4+qqyiX2VTRQ3r+/6tl4hFs6OPbr7seW2ly56LdIpunNvO3Ckib98WsaqAzWYQKjV4IffieHHmb2JC1fgks6noHUC3bkZdYaqRhf7jjSHr4qjQayqqf3rLMaFWUmNspMaZSMtyk5qtL35vp2kCJt2Q4r4SE/obV9VNPL0p+W8f7AGgHCbwYwhsczO7E2MPtRJJ1LQOoGe0Iw6m2maHK53tdn9+FVlE19XNtHgOv6vos2A5Ci7N4ilRtlJi7aTEmUnLcpOrxCLdkeKnKKe1Nu+KG/gz9vL2VBQC0CU3cJ1GbFclxFLdIgCl/ifgtYJ9KRmFGhu06S0zklBjZP8GgcFLV/VDvJrHN6jHo8nym7xhLDo5hAWdTSEJUfZCNVRkSJePbG3fVbawJ93lPFxUR3gWcJw47DezBwaS4Rd/UH8R0HrBHpiMwpWDU43hbXONuGrsMZzW1DtoM55/F9jA89uyaNfNuLCrcS33A+3Hf0+zKpTVUi315N729biev60o4x/F9cD0DvUyo+G92ba4BgiFbjEDxS0TqAnN6OuxDRNKhvd3lmw/OpWM2I1Dg7VOjnBXsljRIdY2oSy+DArceGe+/FhNu9z8eE2ImyGdllKl9PTe5tpmmw55Alcn5Y2eB8/K9xKerRnJjwt2k56dIjnfrSdGC1PkDOkQzCkyzMMg95hVnqHWRl+1rHXPnO6TcobXJQ3OClvcFFW7/LeL2twUd58v6zBSUWDi+omN9VNbr6pcpx022FWz7bjW82Mtf7eM3Pm+T5ajVokKBiGwdjkCMb0CWdTYR3PfFbOrrIGDte7OFzvYltJwzHvibJbvKHraBDz3CZF2HRNWDkuBS3p9mwWg8QI2ymdS8dtmlQ1uSmr94SusuZgVtEcysoaXJ7H6z2hrcFlUlTrpKjWCTSepA6OzpCFWYkPPzpj1vr7uHArsaFWNW4RPzMMg3GpkYxLjcTlNimuc5JX7ZkVz69xtPm+xuHm8/JGPi8/9u/cbjFIi7J5Qli052TNLSEsNcqm5Qg9nIKWSCsWwyA21BN0TsY0TeqcpmdmrNWsWHl9c0Br9X15g4tah5uSOiclxzm/WGtWA3qHeeqIsluICrE03zbfb/1Yq8ejmx+LtFt0OgyR02C1GKQ0H0QzNrntc6ZpUtHoIr/6aPjKa16mkF/toKzBxf4qB/urHEBdm/caQEKEjeRIG30ibSRH2kluvvXctxGlox+7NQUtkTNkGAaRdoNIewjp0Sd/fYPT7d11Wda8G7O81eyYZzemZ+asqsnt3Y1xpiJsxtFg1iqUecKYlagQCxE2S/OtQWRzQGv9FWFTYBMxDMNzEE2YjREJ4cc8X+dwk98qeOXVOMiraiK/eY1oywesHaXtjx8dYjluCOsTaeescM1wd2UKWiKdJMxmISXKQkrUya+/5nB5ZsoqG93UONzUNLk8tw43NU2e2+omzyxZ68e8tw43dU6TOqeTko7WbW0bwiJavrdZiAzx3EbYDaJaPZfT7xSSp0g3EWG38J3eoXynd+gxzzncJiW1TorqHBTVODlU66So1tHm1rMutIm9FU3tjm+zQJ8I+9FZsSg7fSI8twnNSw16hVqx60NRUFLQEglCdqtBUqSdpMgze7/bNI8TwjyL/WscbmpbfdW1hDOHm1qn6X2s1uGmwWXS4PLMuJ2qbTcoaImAZ/1WarTnShckHft8y27JQ81rPQ/VegJZ62BW0ejyzJjVnPgAnSi7hdhQKzGhFmJCrfQOtRLTfL9lSURM821s82vCbFo/5m8KWiLdkMUwiA6xes58fYZhDTyBrcFptgphbmqbmm9bhbE2X872L7EkIsdqvVtyWHz7r6l3uilungErah3Iap2U1XtmvqtazXrn15z69sOshjeAfTuQ9QrxzFJHNM9aR9gshNtbZrEthNsMwm0WbJpJOyEFLRE5LotheBqsTuQoEjDhNgv9Y0LoHxNy3Ne4TZPqJjeVjS4qG10caXRR2ehuvj16/+j3Lo40emasD9U5OXQKB+kcT5jVE7hawlhLOAtvvh9pt3iebx3YbBbCbAZhNk9gC7N67ofbLN7xbBa6xSlxFLRERES6OIthNM9KWel3iu9pOXK6bRg7GshqmtzUOT0z155bk/qW2Wynm3qnSV2r5QUVJz7DzWmzGp61rS3BK8xmEGb1hLPWoSzM+5wntIVaj7421GYh1Hr0faFWw3O/+b2hNoMQi39PPK2gJSIi0gMdPXL61A7SaY/ZvLygznk0jLUNZ80H5jjc3pBW3/z6RqcnuDW4TBqab+udbhqaH3eZNC9JADjzI7BPxoDm8OUJaaHNASzMejSMtYS3B7/b57TH71FBa+XKlfznf/4nLpeLm2++mXvuuSfQJYmIdJh6mwSKYRiE2w3C7RaOs8TsjDnczQHs24HMadLg8gS2Bu/jnu/rm59rcJo0utw0ukwamwNco8uk0em5f/Q1pmc7Ls8XnHiNqYLWCbhcLm677TZWr15NWloa559/PpMnT2bYsGGBLk1E5Iypt0l3ZbcY2EOsRB9/aZpPuNwmTS6Tetfxwpjn8QbnmV0auscErS1btjBo0CAGDhwIwIwZM1ixYoWakYh0aeptIh1jtRiEWzyzcv7QYw4lKigoID093Xs/LS2NgoKCY163ePFiRo8ezejRoyktPc5pfEVEgoR6m0hw6zFByzSPnfJr7yiDuXPnkpubS25uLgkJCZ1RmojIGVNvEwluPSZopaWlkZeX572fn59PSkpKACsSEek49TaR4NZjgtb555/P3r172b9/P01NTSxbtozJkycHuiwRkQ5RbxMJbj1mMbzNZuPJJ59k0qRJuFwubrrpJjIzMwNdlohIh6i3iQQ3w2xvB78AEBUVxdChQ/0ydmlpqd/WSWhsjR3osevr69m1a5dfxpaOU2/T2Br7zJxRbzPluEaNGqWxNbbGDrKxpeO66v97ja2xu+LYPWaNloiIiEhnU9ASERER8RMFrROYO3euxtbYGjvIxpaO66r/7zW2xu6KY2sxvIiIiIifaEZLRERExE8UtNpx0003kZiYyPDhw306bl5eHuPHjycjI4PMzEwef/xxn43d0NDAmDFjGDlyJJmZmcyfP99nY7dwuVyce+65XH311T4fu3///pxzzjlkZWUxevRon45dWVnJNddcw9ChQ8nIyODjjz/2ybh79uwhKyvL+9WrVy8WLVrkk7Efe+wxMjMzGT58ODNnzqShocEn47Z4/PHHGT58OJmZmR2uub2/l/LycnJychg8eDA5OTlUVFR0sGLxBfW29qm3teXP3gb+7W9B2dt8fuxjN7B+/Xrz3//+t5mZmenTcQsLC81///vfpmmaZlVVlTl48GBz165dPhnb7Xab1dXVpmmaZlNTkzlmzBjz448/9snYLR599FFz5syZ5lVXXeXTcU3TNPv162eWlpb6fFzTNM0bb7zRXLJkiWmaptnY2GhWVFT4fBtOp9NMSkoyDxw40OGx8vPzzf79+5t1dXWmaZrmD3/4Q/Ovf/1rh8dt8dlnn5mZmZlmbW2t6XA4zIkTJ5pffvnlGY/X3t/LXXfdZS5YsMA0TdNcsGCBeffdd3e4buk49bb2qbcdny97m2n6t78Fa2/TjFY7LrnkEuLi4nw+bnJyMueddx4A0dHRZGRkUFBQ4JOxDcMgKioKAIfDgcPhaPfCsmcqPz+fd955h5tvvtlnY3aGqqoqNmzYwJw5cwAICQkhNjbW59t5//33Ofvss+nXr59PxnM6ndTX1+N0Oqmrq/Pptes+//xzLrjgAiIiIrDZbGRnZ/PGG2+c8Xjt/b2sWLGC2bNnAzB79myWL1/ekZLFR9TbjqXedmK+7m3gv/4WrL1NQStADhw4wLZt2xg7dqzPxnS5XGRlZZGYmEhOTo5Px77zzjt5+OGHsVj88ytjGAaXX345o0aNYvHixT4b9+uvvyYhIYEf//jHnHvuudx8883U1tb6bPwWy5YtY+bMmT4ZKzU1lV/+8pf07duX5ORkYmJiuPzyy30yNsDw4cPZsGEDZWVl1NXV8e6777a5KLEvFBcXk5ycDHj+ES4pKfHp+BK81NvaUm9ry5/9LVh7m4JWANTU1DBt2jQWLVpEr169fDau1Wpl+/bt5Ofns2XLFnbu3OmTcd9++20SExMZNWqUT8Zrz6ZNm9i6dSvvvfceTz31FBs2bPDJuE6nk61bt/LTn/6Ubdu2ERkZycKFC30ydoumpibefPNNfvjDH/pkvIqKClasWMH+/fspLCyktraWl156ySdjA2RkZPCrX/2KnJwcrrjiCkaOHInN1mMueyp+pN52LPW2tvzZ34K1tylodTKHw8G0adO47rrrmDp1ql+2ERsby6WXXsrKlSt9Mt6mTZt488036d+/PzNmzGDt2rVcf/31Phm7RcvUcWJiIj/4wQ/YsmWLT8ZNS0sjLS3N+wn4mmuuYevWrT4Zu8V7773HeeedR1JSkk/GW7NmDQMGDCAhIQG73c7UqVP56KOPfDJ2izlz5rB161Y2bNhAXFwcgwcP9un4SUlJFBUVAVBUVERiYqJPx5fgo97WPvW2tvzd34KxtylodSLTNJkzZw4ZGRnMmzfPp2OXlpZSWVkJeC56uWbNGp9dNHbBggXk5+dz4MABli1bxoQJE3w6w1JbW0t1dbX3+3/+858+OyqqT58+pKens2fPHsCz3mDYsGE+GbvFK6+84tOp9b59+7J582bq6uowTZP333+fjIwMn40PeKe7Dx48yOuvv+7T+gEmT57M0qVLAVi6dClTpkzx6fgSXNTb2qfedix/97eg7G1nvBy/G5sxY4bZp08f02azmampqeYzzzzjk3E3btxoAuY555xjjhw50hw5cqT5zjvv+GTsHTt2mFlZWeY555xjZmZmmg888IBPxv22Dz74wOdH5uzbt88cMWKEOWLECHPYsGHmgw8+6NPxt23bZo4aNco855xzzClTppjl5eU+G7u2ttaMi4szKysrfTamaZrm/fffbw4ZMsTMzMw0r7/+erOhocGn448bN87MyMgwR4wYYa5Zs6ZDY7X393L48GFzwoQJ5qBBg8wJEyaYZWVlPqpcOkK97fjU29ryV28zTf/2t2DsbTozvIiIiIifaNehiIiIiJ8oaImIiIj4iYKWiIiIiJ8oaImIiIj4iYKWiIiIiJ8oaEmXcuDAAZ+dh0ZEJFiot3VfCloiIiIifqKgJV3W119/zbnnnsu//vWvQJciIuIz6m3di4KWdEl79uxh2rRp/PWvf+X8888PdDkiIj6h3tb9BP6y1iKnqbS0lClTpvCPf/yDzMzMQJcjIuIT6m3dk2a0pMuJiYkhPT2dTZs2BboUERGfUW/rnjSjJV1OSEgIy5cvZ9KkSURFRTFr1qxAlyQi0mHqbd2TgpZ0SZGRkbz99tvk5OQQGRnJlClTAl2SiEiHqbd1P4ZpmmagixARERHpjrRGS0RERMRPFLRERERE/ERBS0RERMRPFLRERERE/ERBS0RERMRPFLRERERE/ERBS0RERMRPFLRERERE/OT/A0cKrgqatj7GAAAAAElFTkSuQmCC' style='max-width:100%; margin: auto; display: block; '/>"
      ],
      "text/plain": [
       ":Layout\n",
       "   .Curve.I  :Curve   [k]   (inertia)\n",
       "   .Curve.II :Curve   [k]   (inertia)"
      ]
     },
     "execution_count": 32,
     "metadata": {
      "application/vnd.holoviews_exec.v0+json": {}
     },
     "output_type": "execute_result"
    }
   ],
   "source": [
    "# Composite plot to contrast the Elbow curves\n",
    "\n",
    "elbow_1 + elbow_2"
   ]
  },
  {
   "cell_type": "code",
   "execution_count": 33,
   "metadata": {
    "metadata": {}
   },
   "outputs": [
    {
     "data": {
      "text/html": [
       "<img src='data:image/png;base64,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' style='max-width:100%; margin: auto; display: block; '/>"
      ],
      "text/plain": [
       ":Layout\n",
       "   .NdOverlay.I  :NdOverlay   [predicted_clusters]\n",
       "      :Scatter   [price_change_percentage_24h]   (price_change_percentage_7d,coin_id)\n",
       "   .NdOverlay.II :NdOverlay   [predicted_clusters]\n",
       "      :Scatter   [PC1]   (PC2,coin_id)"
      ]
     },
     "execution_count": 33,
     "metadata": {
      "application/vnd.holoviews_exec.v0+json": {}
     },
     "output_type": "execute_result"
    }
   ],
   "source": [
    "# Composite plot to contrast the clusters\n",
    "# YOUR CODE HERE!\n",
    "\n",
    "clusters_1 + clusters_2"
   ]
  },
  {
   "attachments": {},
   "cell_type": "markdown",
   "metadata": {},
   "source": [
    "#### Answer the following question: \n",
    "\n",
    "  * **Question:** After visually analyzing the cluster analysis results, what is the impact of using fewer features to cluster the data using K-Means?\n",
    "\n",
    "  * **Answer:** Reducing the number of features for K-Means clustering alters the scatter plots, but the K value remains constant. For instance, in cluster 1, the K value range is -5 to 0, whereas in the PCA model, the range is greater than 0. Similarly, looking at cluster 3, the K value ranges from 1 to -1, while the PCA model range is 7 to 5. This suggests that although the number of features has been reduced, the clusters are still distinguishable,through different distributions."
   ]
  }
 ],
 "metadata": {
  "kernelspec": {
   "display_name": "Python 3 (ipykernel)",
   "language": "python",
   "name": "python3"
  },
  "language_info": {
   "codemirror_mode": {
    "name": "ipython",
    "version": 3
   },
   "file_extension": ".py",
   "mimetype": "text/x-python",
   "name": "python",
   "nbconvert_exporter": "python",
   "pygments_lexer": "ipython3",
   "version": "3.10.13"
  },
  "nteract": {
   "version": "0.28.0"
  },
  "vscode": {
   "interpreter": {
    "hash": "40d3a090f54c6569ab1632332b64b2c03c39dcf918b08424e98f38b5ae0af88f"
   }
  }
 },
 "nbformat": 4,
 "nbformat_minor": 4
}
